{
 "cells": [
  {
   "cell_type": "markdown",
   "metadata": {},
   "source": [
    "# Clean With IR"
   ]
  },
  {
   "cell_type": "markdown",
   "metadata": {},
   "source": [
    "## 1. Make the mesh"
   ]
  },
  {
   "cell_type": "code",
   "execution_count": 135,
   "metadata": {},
   "outputs": [
    {
     "name": "stdout",
     "output_type": "stream",
     "text": [
      "The autoreload extension is already loaded. To reload it, use:\n",
      "  %reload_ext autoreload\n"
     ]
    }
   ],
   "source": [
    "%load_ext autoreload\n",
    "%autoreload 2"
   ]
  },
  {
   "cell_type": "code",
   "execution_count": 136,
   "metadata": {},
   "outputs": [],
   "source": [
    "import gmsh\n",
    "from dolfinx import fem\n",
    "import pandas as pd\n",
    "import numpy as np\n",
    "\n",
    "from mesh_and_materials.mesh import *\n",
    "from mesh_and_materials.materials import *\n",
    "from space.space_and_forms import *\n",
    "from dirichlet_bc.bc import *"
   ]
  },
  {
   "cell_type": "code",
   "execution_count": 137,
   "metadata": {},
   "outputs": [],
   "source": [
    "\n",
    "# Sample geometry (all units in meters)\n",
    "\n",
    "d_ins_oside = 6.3e-6\n",
    "d_ins_pside = 3.2e-6\n",
    "d_sample    = 1.84e-6\n",
    "d_ir        = 0.062e-6\n",
    "\n",
    "# Mesh bounds\n",
    "x_length = d_ins_oside + d_ins_pside + d_sample + 2 * d_ir\n",
    "mesh_xmin, mesh_xmax = -(x_length/2), x_length/2\n",
    "mesh_ymin, mesh_ymax = -20e-6, 0\n",
    "\n",
    "# Heating params\n",
    "heating_FWHM = 13.2e-6\n"
   ]
  },
  {
   "cell_type": "code",
   "execution_count": 138,
   "metadata": {},
   "outputs": [],
   "source": [
    "\n",
    "# Material regions (from left to right)\n",
    "bx_ins_pside = mesh_xmin\n",
    "BX_ins_pside = mesh_xmin + d_ins_pside\n",
    "\n",
    "bx_ir_pside  = BX_ins_pside\n",
    "BX_ir_pside  = bx_ir_pside + d_ir\n",
    "\n",
    "bx_sample = BX_ir_pside\n",
    "BX_sample = bx_sample + d_sample\n",
    "\n",
    "bx_ir_oside = BX_sample\n",
    "BX_ir_oside = bx_ir_oside + d_ir\n",
    "\n",
    "bx_ins_oside = BX_ir_oside\n",
    "BX_ins_oside = bx_ins_oside + d_ins_oside\n",
    "\n",
    "ins_pside = Material(\n",
    "    \"pside ins\",\n",
    "    [bx_ins_pside, BX_ins_pside, mesh_ymin, mesh_ymax],\n",
    "    properties={\"rho_cv\": 4131 * 668, \"k\": 10},\n",
    "    mesh_size=0.1e-6\n",
    ")\n",
    "\n",
    "ir_pside = Material(\n",
    "    \"pside ir\",\n",
    "    boundaries=[bx_ir_pside, BX_ir_pside, mesh_ymin, mesh_ymax],\n",
    "    properties={\"rho_cv\": 26504 * 130, \"k\": 352},\n",
    "    mesh_size=0.02e-6\n",
    ")\n",
    "\n",
    "sample = Material(\n",
    "    \"sample\",\n",
    "    boundaries=[bx_sample, BX_sample, mesh_ymin, mesh_ymax],\n",
    "    properties={\"rho_cv\": 5164 * 1158, \"k\": 3.9},\n",
    "    mesh_size=0.08e-6\n",
    ")\n",
    "\n",
    "ir_oside = Material(\n",
    "    \"oside ir\",\n",
    "    boundaries=[bx_ir_oside, BX_ir_oside, mesh_ymin, mesh_ymax],\n",
    "    properties={\"rho_cv\": 26504 * 130, \"k\": 352},\n",
    "    mesh_size=0.02e-6\n",
    ")\n",
    "\n",
    "ins_oside = Material(\n",
    "    \"oside ins\",\n",
    "    boundaries=[bx_ins_oside, BX_ins_oside, mesh_ymin, mesh_ymax],\n",
    "    properties={\"rho_cv\": 4131 * 668, \"k\": 10},\n",
    "    mesh_size=0.1e-6\n",
    ")\n",
    "\n",
    "materials = [ins_pside, ir_pside, sample, ir_oside, ins_oside]\n",
    "\n",
    "gmsh_domain = Mesh(\n",
    "    name=\"clean\",\n",
    "    boundaries=[mesh_xmin, mesh_xmax, mesh_ymin, mesh_ymax],\n",
    "    materials=materials\n",
    ")\n"
   ]
  },
  {
   "cell_type": "code",
   "execution_count": 139,
   "metadata": {},
   "outputs": [
    {
     "name": "stdout",
     "output_type": "stream",
     "text": [
      "no mesh errors found\n",
      "Info    : Meshing 1D...\n",
      "Info    : [  0%] Meshing curve 1 (Line)\n",
      "Info    : [ 10%] Meshing curve 2 (Line)\n",
      "Info    : [ 20%] Meshing curve 3 (Line)\n",
      "Info    : [ 20%] Meshing curve 4 (Line)\n",
      "Info    : [ 30%] Meshing curve 5 (Line)\n",
      "Info    : [ 40%] Meshing curve 6 (Line)\n",
      "Info    : [ 40%] Meshing curve 7 (Line)\n",
      "Info    : [ 50%] Meshing curve 9 (Line)\n",
      "Info    : [ 60%] Meshing curve 10 (Line)\n",
      "Info    : [ 60%] Meshing curve 11 (Line)\n",
      "Info    : [ 70%] Meshing curve 13 (Line)\n",
      "Info    : [ 70%] Meshing curve 14 (Line)\n",
      "Info    : [ 80%] Meshing curve 15 (Line)\n",
      "Info    : [ 90%] Meshing curve 17 (Line)\n",
      "Info    : [ 90%] Meshing curve 18 (Line)\n",
      "Info    : [100%] Meshing curve 19 (Line)\n",
      "Info    : Done meshing 1D (Wall 0.00377234s, CPU 0.004607s)\n",
      "Info    : Meshing 2D...\n",
      "Info    : [  0%] Meshing surface 1 (Plane, Frontal-Delaunay)\n",
      "Info    : [ 30%] Meshing surface 2 (Plane, Frontal-Delaunay)\n",
      "Info    : [ 50%] Meshing surface 3 (Plane, Frontal-Delaunay)\n",
      "Info    : [ 70%] Meshing surface 4 (Plane, Frontal-Delaunay)\n",
      "Info    : [ 90%] Meshing surface 5 (Plane, Frontal-Delaunay)\n",
      "Info    : Done meshing 2D (Wall 7.97481s, CPU 7.92299s)\n",
      "Info    : 205776 nodes 415562 elements\n"
     ]
    }
   ],
   "source": [
    "gmsh_domain.build_mesh()"
   ]
  },
  {
   "cell_type": "code",
   "execution_count": 140,
   "metadata": {},
   "outputs": [
    {
     "name": "stdout",
     "output_type": "stream",
     "text": [
      "Info    : Writing 'clean_with_ir.msh'...\n",
      "Info    : Done writing 'clean_with_ir.msh'\n",
      "Info    : Reading 'clean_with_ir.msh'...\n",
      "Info    : 33 entities\n",
      "Info    : 205776 nodes\n",
      "Info    : 410885 elements                                                                                     \n",
      "Info    : Done reading 'clean_with_ir.msh'                                                                       \n",
      "-------------------------------------------------------\n",
      "Version       : 4.13.1\n",
      "License       : GNU General Public License\n",
      "Build OS      : Linux64-sdk\n",
      "Build date    : 20240524\n",
      "Build host    : gmsh.info\n",
      "Build options : 64Bit ALGLIB[contrib] ANN[contrib] Bamg Blas[petsc] Blossom Cgns DIntegration Dlopen DomHex Eigen[contrib] Fltk Gmm[contrib] Hxt Jpeg Kbipack Lapack[petsc] LinuxJoystick MathEx[contrib] Med Mesh Metis[contrib] Mmg Mpeg Netgen Nii2mesh ONELAB ONELABMetamodel OpenCASCADE OpenCASCADE-CAF OpenGL OpenMP OptHom PETSc Parser Plugins Png Post QuadMeshingTools QuadTri Solver TetGen/BR TinyXML2[contrib] Untangle Voro++[contrib] WinslowUntangler Zlib\n",
      "FLTK version  : 1.4.0\n",
      "PETSc version : 3.14.4 (real arithmtic)\n",
      "OCC version   : 7.7.2\n",
      "MED version   : 4.1.0\n",
      "Packaged by   : geuzaine\n",
      "Web site      : https://gmsh.info\n",
      "Issue tracker : https://gitlab.onelab.info/gmsh/gmsh/issues\n",
      "-------------------------------------------------------\n"
     ]
    }
   ],
   "source": [
    "gmsh_domain.write('clean_with_ir.msh')\n",
    "# Visualize in gmsh if desired\n",
    "gmsh.open('clean_with_ir.msh')\n",
    "gmsh.fltk.initialize()\n",
    "gmsh.fltk.run()"
   ]
  },
  {
   "cell_type": "code",
   "execution_count": 141,
   "id": "0ac31cf6",
   "metadata": {},
   "outputs": [],
   "source": [
    "gmsh.finalize()"
   ]
  },
  {
   "cell_type": "markdown",
   "id": "07721fd4",
   "metadata": {},
   "source": [
    "## 2. Run the simulation"
   ]
  },
  {
   "cell_type": "code",
   "execution_count": 142,
   "id": "15ce13aa",
   "metadata": {},
   "outputs": [],
   "source": [
    "\n",
    "# Experimental heating curve\n",
    "\n",
    "df = pd.read_csv('experimental_data/geballe_2020_fig3_left_approx.csv')\n",
    "df = df.copy().iloc[1:].reset_index(drop=True)\n",
    "\n",
    "# split front/back columns and clean\n",
    "df_pside = df[['Front', 'Unnamed: 1']].copy()\n",
    "df_oside = df[['Back',  'Unnamed: 3']].copy()\n",
    "\n",
    "df_pside.columns = ['time', 'temperature']\n",
    "df_oside.columns = ['time', 'temperature']\n",
    "\n",
    "df_pside = (df_pside\n",
    "            .apply(pd.to_numeric)\n",
    "            .dropna()\n",
    "            .sort_values('time')\n",
    "            .reset_index(drop=True))\n",
    "\n",
    "df_oside = (df_oside\n",
    "            .apply(pd.to_numeric)\n",
    "            .dropna()\n",
    "            .sort_values('time')\n",
    "            .reset_index(drop=True))\n",
    "\n",
    "df_pside['time'] = df_pside['time'] * 10**-6\n",
    "df_oside['time'] = df_oside['time'] * 10**-6\n",
    "\n",
    "df_pside['normed temperature'] = (\n",
    "    df_pside['temperature'] - df_pside['temperature'].iloc[0]\n",
    ") / (df_pside['temperature'].max() - df_pside['temperature'].min())\n",
    "\n",
    "df_oside['normed temperature'] = (\n",
    "    df_oside['temperature'] - df_oside['temperature'].iloc[0]\n",
    ") / (df_pside['temperature'].max() - df_pside['temperature'].min())\n"
   ]
  },
  {
   "cell_type": "code",
   "execution_count": 143,
   "metadata": {},
   "outputs": [
    {
     "name": "stdout",
     "output_type": "stream",
     "text": [
      "Info    : Reading 'clean_with_ir.msh'...\n",
      "Info    : 33 entities\n",
      "Info    : 205776 nodes\n",
      "Info    : 410885 elements                                                                                     \n",
      "Info    : Done reading 'clean_with_ir.msh'                                                                       \n"
     ]
    }
   ],
   "source": [
    "import os\n",
    "rebuild_mesh = False\n",
    "mesh_file = 'clean_with_ir.msh'\n",
    "if not os.path.exists(mesh_file) or rebuild_mesh:\n",
    "    gmsh_domain.build_mesh()\n",
    "    gmsh_domain.write(mesh_file)\n",
    "\n",
    "dolfinx_domain = Mesh.msh_to_dolfinx(mesh_file) # (mesh, cell_tags, facet_tags)\n"
   ]
  },
  {
   "cell_type": "code",
   "execution_count": 144,
   "id": "c3a76a7b",
   "metadata": {},
   "outputs": [],
   "source": [
    "\n",
    "spaces = Space(dolfinx_domain, V_family='Lagrange', V_degree=1, Q_family='DG', Q_degree=0)\n",
    "\n",
    "rho_cv_fxn = spaces.assign_material_property(materials, 'rho_cv')\n",
    "k_fxn = spaces.assign_material_property(materials, 'k')\n"
   ]
  },
  {
   "cell_type": "code",
   "execution_count": 145,
   "id": "278c29c9",
   "metadata": {},
   "outputs": [],
   "source": [
    "spaces.cell_map = gmsh_domain.material_tags"
   ]
  },
  {
   "cell_type": "code",
   "execution_count": 146,
   "id": "a0002d63",
   "metadata": {},
   "outputs": [],
   "source": [
    "\n",
    "ic_temp = 300.0\n",
    "ic_fxn = spaces.initial_condition(ic_temp)\n",
    "u_n = fem.Function(spaces.V)\n",
    "u_n.x.array[:] = ic_fxn.x.array\n",
    "u_n.x.scatter_forward()\n"
   ]
  },
  {
   "cell_type": "code",
   "execution_count": 147,
   "id": "0051f0df",
   "metadata": {},
   "outputs": [],
   "source": [
    "\n",
    "from scipy.interpolate import make_interp_spline\n",
    "\n",
    "pside_heating_spline_interp = make_interp_spline(df_pside['time'], df_pside['temperature'], k=3)\n",
    "offset = df_pside['temperature'].iloc[0] - 300\n",
    "\n",
    "def heating_offset(t):\n",
    "    return float(pside_heating_spline_interp(t))\n",
    "\n",
    "# Gaussian profile for inner boundary\n",
    "heating_FWHM = 13.2e-6\n",
    "coeff = -4.0 * np.log(2.0) / heating_FWHM**2\n",
    "y_center = 0.0\n",
    "\n",
    "def gaussian(x, y, t):\n",
    "    amp = heating_offset(t)\n",
    "    return (amp) * np.exp(coeff * (y - y_center)**2)\n",
    "\n",
    "bcs = []\n",
    "left_bc = RowDirichletBC(spaces.V, 'left', value=ic_temp)\n",
    "right_bc = RowDirichletBC(spaces.V, 'right', value=ic_temp)\n",
    "bottom_bc = RowDirichletBC(spaces.V, 'bottom', value=ic_temp)\n",
    "top_bc = RowDirichletBC(spaces.V, 'top', value=ic_temp)\n",
    "trans_pside_bc = RowDirichletBC(\n",
    "    spaces.V,\n",
    "    'x',\n",
    "    coord=bx_ir_pside,\n",
    "    length=heating_FWHM * 2,\n",
    "    center=0.0,\n",
    "    value=gaussian,\n",
    ")\n",
    "\n",
    "\n",
    "steady_pside_bc = RowDirichletBC(spaces.V, 'x', coord = bx_ir_pside, \n",
    "                                 length=heating_FWHM, \n",
    "                                 center = 0.0, \n",
    "                                 value = df_pside['temperature'].iloc[0])\n",
    "steady_oside_bc = RowDirichletBC(spaces.V, 'x', \n",
    "                                 coord=BX_ir_oside, \n",
    "                                 length=heating_FWHM, \n",
    "                                 center=0.0, \n",
    "                                 value=df_oside['temperature'].iloc[0])\n",
    "\n",
    "steady_obj_bcs = [steady_pside_bc, steady_oside_bc, left_bc, right_bc, bottom_bc]\n",
    "steady_dolfinx_bcs = [x.bc for x in steady_obj_bcs]"
   ]
  },
  {
   "cell_type": "code",
   "execution_count": 148,
   "id": "83a4565e",
   "metadata": {},
   "outputs": [
    {
     "name": "stdout",
     "output_type": "stream",
     "text": [
      "Row BC #0: x in [-2.532e-06, -2.532e-06]  y in [-6.600e-06, 2.642e-25]  (n = 331 DOFs)\n",
      "Row BC #1: x in [-5.680e-07, -5.680e-07]  y in [-6.600e-06, 1.110e-24]  (n = 331 DOFs)\n",
      "Row BC #2: x in [-5.732e-06, -5.732e-06]  y in [-2.000e-05, 1.583e-24]  (n = 201 DOFs)\n",
      "Row BC #3: x in [5.732e-06, 5.732e-06]  y in [-2.000e-05, -9.525e-24]  (n = 201 DOFs)\n",
      "Row BC #4: x in [-5.732e-06, 5.732e-06]  y in [-2.000e-05, -2.000e-05]  (n = 135 DOFs)\n"
     ]
    }
   ],
   "source": [
    "RowDirichletBC.describe_row_bcs(steady_obj_bcs)"
   ]
  },
  {
   "cell_type": "markdown",
   "id": "8527398f",
   "metadata": {},
   "source": [
    "# Steady state solve"
   ]
  },
  {
   "cell_type": "code",
   "execution_count": 149,
   "id": "680cb7e0",
   "metadata": {},
   "outputs": [],
   "source": [
    "# Solve in steady state -------------------------------------------------------\n",
    "\n",
    "from dolfinx.fem.petsc import assemble_matrix\n",
    "\n",
    "\n",
    "spaces.build_steady_state_variational_forms(k_fxn)\n",
    "\n",
    "A = assemble_matrix(spaces.a_form_steady, bcs=steady_dolfinx_bcs)\n",
    "A.assemble()\n",
    "b = fem.petsc.create_vector(spaces.L_form_steady)\n",
    "\n",
    "solver = PETSc.KSP().create(A.getComm())\n",
    "solver.setOperators(A)\n",
    "solver.setType(PETSc.KSP.Type.PREONLY)\n",
    "solver.getPC().setType(PETSc.PC.Type.LU)\n",
    "\n",
    "from io_utilities.xdmf_utils import *\n",
    "\n",
    "# set up output folder for steady-state\n",
    "outputs_folder = os.path.join(os.getcwd(), 'sim_outputs')\n",
    "save_folder = os.path.join(outputs_folder, 'steady_state_soln')\n",
    "os.makedirs(save_folder, exist_ok=True)\n",
    "\n",
    "# initialize XDMF for steady state\n",
    "xdmf_ss = init_xdmf(spaces.mesh, save_folder, 'steady_state_solution')\n",
    "\n",
    "u_ss = fem.Function(spaces.V)\n",
    "u_ss.name = 'Steady State Temperature (K)'\n",
    "\n",
    "with b.localForm() as local_b:\n",
    "    local_b.set(0)\n",
    "\n",
    "for x in steady_obj_bcs:\n",
    "    x.update(0.0)\n",
    "\n",
    "fem.petsc.assemble_vector(b, spaces.L_form_steady)\n",
    "fem.petsc.apply_lifting(b, [spaces.a_form_steady], [steady_dolfinx_bcs])\n",
    "b.ghostUpdate(addv=PETSc.InsertMode.ADD_VALUES, mode=PETSc.ScatterMode.REVERSE)\n",
    "fem.petsc.set_bc(b, steady_dolfinx_bcs)\n",
    "\n",
    "solver = PETSc.KSP().create(A.getComm())\n",
    "solver.setOperators(A)\n",
    "solver.setType(PETSc.KSP.Type.PREONLY)\n",
    "solver.getPC().setType(PETSc.PC.Type.LU)\n",
    "\n",
    "solver.solve(b, u_ss.x.petsc_vec)\n",
    "\n",
    "xdmf_ss.write_function(u_ss, 0.0)\n",
    "xdmf_ss.close()\n"
   ]
  },
  {
   "cell_type": "code",
   "execution_count": 150,
   "id": "2e6e9555",
   "metadata": {},
   "outputs": [],
   "source": [
    "outer_obj_bcs = [left_bc, right_bc, bottom_bc]\n",
    "outer_dolfinx_bcs = [x.bc for x in outer_obj_bcs]\n",
    "# Assemble the free matrix for the transient problem\n",
    "A_free = assemble_matrix(spaces.a_form_steady, bcs=outer_dolfinx_bcs)\n",
    "A_free.assemble()\n",
    "\n",
    "b_equiv = A_free.createVecRight()\n",
    "A_free.mult(u_ss.x.petsc_vec, b_equiv)"
   ]
  },
  {
   "cell_type": "code",
   "execution_count": 151,
   "id": "567016cf",
   "metadata": {},
   "outputs": [
    {
     "data": {
      "text/plain": [
       "array([ 1.04945672e+02,  1.04931533e+02,  1.04917588e+02,  1.05022440e+02,\n",
       "        1.05037558e+02,  1.05005651e+02,  1.04959645e+02,  1.04988696e+02,\n",
       "        1.04975854e+02,  1.04903680e+02,  1.04891304e+02,  1.05053931e+02,\n",
       "        1.04876812e+02,  1.05375035e+02,  1.05124104e+02,  1.05106233e+02,\n",
       "        1.05088438e+02,  1.05070596e+02,  1.04865036e+02,  1.05398425e+02,\n",
       "        1.05304803e+02,  1.05329118e+02,  1.05348967e+02,  1.05142580e+02,\n",
       "        1.05423233e+02,  1.05448231e+02,  1.05474174e+02,  1.05499892e+02,\n",
       "        1.05526820e+02,  1.05554445e+02,  1.05240274e+02,  1.05262955e+02,\n",
       "        1.05283428e+02,  1.05221225e+02,  1.05199372e+02,  1.05180885e+02,\n",
       "        1.05161092e+02,  1.04852213e+02,  1.05582471e+02,  1.05611183e+02,\n",
       "        1.04839887e+02,  1.05640962e+02,  1.04828147e+02,  1.05669667e+02,\n",
       "        1.05832250e+02,  1.05865843e+02,  1.05796018e+02,  1.05701918e+02,\n",
       "        1.05733213e+02,  1.05764784e+02,  1.05901954e+02,  1.05937165e+02,\n",
       "        1.04816494e+02,  1.04804912e+02,  1.04793651e+02,  1.05973623e+02,\n",
       "        1.06012224e+02,  1.04782646e+02,  1.06050501e+02,  1.06090101e+02,\n",
       "        1.06130183e+02,  1.06171820e+02,  1.06214128e+02,  1.06255626e+02,\n",
       "        1.04772195e+02,  1.06304426e+02,  1.04761383e+02,  1.06347136e+02,\n",
       "        1.06442808e+02,  1.06391185e+02,  1.04751194e+02,  1.06490067e+02,\n",
       "        1.06539636e+02,  1.06591617e+02,  1.04741190e+02,  1.06643287e+02,\n",
       "        1.04731312e+02,  1.06697333e+02,  1.04720656e+02,  1.04712592e+02,\n",
       "        1.07049247e+02,  1.06751263e+02,  1.06981166e+02,  1.06808319e+02,\n",
       "        1.06865859e+02,  1.06925008e+02,  1.07108802e+02,  1.04702828e+02,\n",
       "        1.07174223e+02,  1.07242479e+02,  1.04693999e+02,  1.07309580e+02,\n",
       "        1.07380548e+02,  1.07450853e+02,  1.04684945e+02,  1.07524250e+02,\n",
       "        1.07599220e+02,  1.07676760e+02,  1.04676736e+02,  1.07753940e+02,\n",
       "        1.07833089e+02,  1.07919825e+02,  1.04666760e+02,  1.08005343e+02,\n",
       "        1.08093252e+02,  1.08179924e+02,  1.08367984e+02,  1.08271150e+02,\n",
       "        1.04660016e+02,  1.08463114e+02,  1.08562169e+02,  1.08662645e+02,\n",
       "        1.08758022e+02,  1.04650820e+02,  1.08879313e+02,  1.08984926e+02,\n",
       "        1.04643359e+02,  1.09096450e+02,  1.09210552e+02,  1.09330082e+02,\n",
       "        1.04635442e+02,  1.09695307e+02,  1.09450965e+02,  1.09577572e+02,\n",
       "        1.09840751e+02,  1.04627874e+02,  1.09973968e+02,  1.10248805e+02,\n",
       "        1.10400135e+02,  1.10546172e+02,  1.10702112e+02,  1.10857632e+02,\n",
       "        1.10106034e+02,  1.11028292e+02,  1.11185737e+02,  1.04620404e+02,\n",
       "        1.11357334e+02,  1.11539802e+02,  1.11723807e+02,  1.11901884e+02,\n",
       "        1.04613060e+02,  1.12105280e+02,  1.12712489e+02,  1.12487523e+02,\n",
       "        1.12297243e+02,  1.04605947e+02,  1.12923746e+02,  1.13143437e+02,\n",
       "        1.04598899e+02,  1.13376154e+02,  1.14099178e+02,  1.13600693e+02,\n",
       "        1.13848584e+02,  1.14337747e+02,  1.04592021e+02,  1.14621227e+02,\n",
       "        1.14877881e+02,  1.15167616e+02,  1.04585191e+02,  1.15453779e+02,\n",
       "        1.15742308e+02,  1.16029040e+02,  1.04578748e+02,  1.16378906e+02,\n",
       "        1.16696980e+02,  1.17027463e+02,  1.17371372e+02,  1.17719349e+02,\n",
       "        1.18089125e+02,  1.18476800e+02,  1.18865825e+02,  1.04572263e+02,\n",
       "        1.19274664e+02,  1.19679040e+02,  1.04565925e+02,  1.20134515e+02,\n",
       "        1.20539317e+02,  1.04559792e+02,  1.21036903e+02,  1.21518265e+02,\n",
       "        1.21997095e+02,  1.22483670e+02,  1.23059977e+02,  1.23564226e+02,\n",
       "        1.04553801e+02,  1.24175564e+02,  1.24747613e+02,  1.04547930e+02,\n",
       "        1.25354657e+02,  1.25994518e+02,  1.04541974e+02,  1.26615127e+02,\n",
       "        1.04536403e+02,  1.27338650e+02,  1.28054988e+02,  1.04530673e+02,\n",
       "        1.04525542e+02,  1.04520113e+02,  1.28755489e+02,  1.31168030e+02,\n",
       "        1.30331479e+02,  1.32046713e+02,  1.29556499e+02,  1.04514915e+02,\n",
       "        1.32952671e+02,  1.33893141e+02,  1.04509723e+02,  1.04504951e+02,\n",
       "        1.34891662e+02,  1.38094818e+02,  1.36973046e+02,  1.35917907e+02,\n",
       "        1.04499668e+02,  1.39413809e+02,  1.04495999e+02,  1.40520797e+02,\n",
       "        1.41886658e+02,  1.04490237e+02,  1.43291903e+02,  1.46307016e+02,\n",
       "        1.48006724e+02,  1.44814326e+02,  1.04485536e+02,  1.49805196e+02,\n",
       "        1.04481926e+02,  1.55928568e+02,  1.53646579e+02,  1.51640804e+02,\n",
       "        1.58425939e+02,  1.04476983e+02,  1.61168797e+02,  1.04472850e+02,\n",
       "        1.64270761e+02,  1.77711183e+02,  1.67968712e+02,  1.72436291e+02,\n",
       "        1.85378635e+02,  1.04469252e+02,  1.95410696e+02,  1.04464453e+02,\n",
       "        2.09591273e+02,  1.04460469e+02,  2.30770601e+02,  1.04456631e+02,\n",
       "        1.04452902e+02,  2.63211741e+02,  1.04449219e+02,  3.93990974e+02,\n",
       "        3.12991076e+02,  5.22613932e+02,  1.04445600e+02,  7.33897306e+02,\n",
       "        1.08726181e+03,  1.69655879e+03,  2.85265050e+03,  1.04441953e+02,\n",
       "        1.04438533e+02,  8.00890745e+03,  1.04434936e+02,  4.65661287e-10,\n",
       "       -2.91038305e-10, -3.49245965e-10, -4.07453626e-10,  1.04431755e+02,\n",
       "       -5.82076609e-11, -9.31322575e-10,  1.04773790e-09,  1.04428372e+02,\n",
       "        4.07453626e-10,  1.04425198e+02,  0.00000000e+00,  5.82076609e-11,\n",
       "       -1.28056854e-09,  1.04422152e+02,  1.04419065e+02,  3.49245965e-10,\n",
       "       -1.16415322e-09,  2.32830644e-10, -1.16415322e-10,  1.04416140e+02,\n",
       "        1.04413188e+02,  0.00000000e+00,  1.04410254e+02,  2.15368345e-09,\n",
       "        1.04407641e+02,  2.32830644e-10,  1.16415322e-10,  1.04404806e+02,\n",
       "        1.74622983e-10,  1.04402199e+02, -2.91038305e-10, -1.16415322e-10,\n",
       "        1.04399651e+02,  4.65661287e-10,  1.04397069e+02,  0.00000000e+00,\n",
       "        1.74622983e-10,  1.04394737e+02,  3.49245965e-10,  5.82076609e-11,\n",
       "        1.16415322e-10, -5.82076609e-11,  1.04392208e+02,  0.00000000e+00,\n",
       "        5.82076609e-11, -1.16415322e-10,  1.04389838e+02, -1.16415322e-10,\n",
       "        1.04387622e+02, -7.56699592e-10,  1.04385400e+02,  5.82076609e-11,\n",
       "        1.04383239e+02,  1.04381074e+02, -1.16415322e-10,  5.82076609e-11,\n",
       "        0.00000000e+00, -2.32830644e-10,  1.04379134e+02,  5.82076609e-11,\n",
       "        5.82076609e-10, -3.49245965e-10,  1.04376988e+02,  1.04375101e+02,\n",
       "       -2.91038305e-10,  1.04373153e+02, -5.82076609e-10, -1.74622983e-10,\n",
       "        1.04371331e+02,  2.32830644e-10,  1.04369527e+02,  1.04367762e+02,\n",
       "       -2.32830644e-10,  1.04366127e+02, -2.32830644e-10, -5.82076609e-11,\n",
       "       -5.82076609e-11,  1.04364422e+02,  1.16415322e-10,  1.16415322e-10,\n",
       "       -3.49245965e-10,  1.04362798e+02,  1.04361163e+02,  1.16415322e-10,\n",
       "        1.04359694e+02,  2.32830644e-10,  1.04358237e+02, -1.16415322e-10,\n",
       "        1.04356833e+02,  1.74622983e-10,  1.04355406e+02, -2.32830644e-10,\n",
       "        1.04354111e+02, -5.82076609e-11,  1.04352783e+02,  1.04351508e+02,\n",
       "       -4.07453626e-10,  2.91038305e-10,  1.04350350e+02, -8.14907253e-10,\n",
       "        0.00000000e+00,  1.16415322e-10,  1.04349196e+02,  5.82076609e-11,\n",
       "        1.04347978e+02,  1.74622983e-10,  1.04346914e+02, -3.49245965e-10,\n",
       "        1.04345871e+02,  1.16415322e-10,  5.82076609e-11,  1.04344847e+02,\n",
       "       -3.49245965e-10,  5.82076609e-11, -1.74622983e-10, -3.49245965e-10,\n",
       "        1.04343876e+02, -5.82076609e-11,  1.04342931e+02, -1.16415322e-10,\n",
       "        1.04342046e+02,  1.04341234e+02, -1.16415322e-10,  1.04340416e+02,\n",
       "        1.74622983e-10,  4.65661287e-10,  1.04339573e+02, -5.82076609e-10,\n",
       "        1.04338837e+02,  1.04338150e+02, -5.82076609e-11,  1.04337463e+02,\n",
       "        1.04336842e+02, -4.65661287e-10,  1.04336270e+02,  5.82076609e-11,\n",
       "        1.04335692e+02,  1.04335121e+02,  0.00000000e+00, -3.49245965e-10,\n",
       "        1.04334643e+02,  1.74622983e-10,  1.04333800e+02,  1.04334185e+02,\n",
       "        1.04333342e+02,  1.04333049e+02, -2.91038305e-10,  1.04332676e+02,\n",
       "        5.82076609e-11,  5.21656867e+01,  1.04332428e+02,  1.04332163e+02,\n",
       "       -1.74622983e-10,  1.04331369e+02,  1.04331763e+02,  1.04331608e+02,\n",
       "        1.04331498e+02,  1.04331945e+02,  1.04331397e+02, -1.16415322e-10,\n",
       "       -2.32830644e-10,  5.82076609e-11, -8.14907253e-10,  4.65661287e-10,\n",
       "       -3.49245965e-10,  8.73114914e-10,  0.00000000e+00,  2.61934474e-10,\n",
       "       -1.16415322e-10, -5.82076609e-11, -4.07453626e-10,  5.82076609e-11,\n",
       "        0.00000000e+00, -5.82076609e-11,  5.82076609e-11,  0.00000000e+00,\n",
       "       -1.51339918e-09,  1.74622983e-10, -1.74622983e-10,  1.16415322e-10,\n",
       "        2.91038305e-10,  0.00000000e+00,  2.91038305e-11, -1.16415322e-10,\n",
       "        2.91038305e-10,  0.00000000e+00, -3.49245965e-10, -8.73114914e-11,\n",
       "        5.82076609e-11, -2.03726813e-10, -2.03726813e-10, -5.82076609e-11,\n",
       "        1.74622983e-10,  2.32830644e-10,  2.91038305e-10, -5.82076609e-10,\n",
       "       -8.73114914e-11,  5.82076609e-11,  3.78349796e-10,  0.00000000e+00,\n",
       "       -5.82076609e-11, -3.49245965e-10, -5.82076609e-11,  8.73114914e-11,\n",
       "        2.61934474e-10, -8.73114914e-11, -2.91038305e-11, -2.91038305e-11,\n",
       "       -2.91038305e-11, -3.78349796e-10, -2.32830644e-10, -4.94765118e-10,\n",
       "       -8.73114914e-11, -5.82076609e-11, -8.73114914e-11,  0.00000000e+00,\n",
       "        1.16415322e-10,  8.73114914e-11,  5.82076609e-11,  1.45519152e-10,\n",
       "        1.45519152e-10,  5.52972779e-10,  8.73114914e-11,  1.16415322e-10,\n",
       "       -2.91038305e-11,  2.91038305e-11,  1.45519152e-10,  1.16415322e-10,\n",
       "        2.91038305e-11,  2.03726813e-10, -1.16415322e-10,  1.16415322e-10,\n",
       "        1.16415322e-10,  2.91038305e-11, -2.91038305e-11,  2.91038305e-11,\n",
       "       -8.73114914e-11,  0.00000000e+00,  2.03726813e-10,  1.45519152e-10,\n",
       "       -1.16415322e-10, -8.73114914e-11, -5.82076609e-11, -2.03726813e-10,\n",
       "        4.07453626e-10,  8.73114914e-11, -2.91038305e-11,  5.82076609e-11,\n",
       "       -2.61934474e-10, -5.82076609e-11, -2.91038305e-10, -8.73114914e-11,\n",
       "       -1.45519152e-10, -2.91038305e-10,  1.74622983e-10, -2.91038305e-11,\n",
       "       -1.16415322e-10, -1.16415322e-10, -1.16415322e-10,  0.00000000e+00,\n",
       "        0.00000000e+00, -4.65661287e-10, -1.45519152e-10,  5.82076609e-11,\n",
       "        2.91038305e-11, -2.91038305e-11, -2.91038305e-11, -1.16415322e-10,\n",
       "        0.00000000e+00, -4.36557457e-10,  5.82076609e-11,  1.16415322e-10,\n",
       "        2.91038305e-11,  2.91038305e-11, -1.74622983e-10, -2.03726813e-10,\n",
       "       -1.45519152e-10,  2.91038305e-11,  2.91038305e-11, -2.91038305e-11,\n",
       "        1.16415322e-10,  2.03726813e-10,  1.19325705e-09,  5.82076609e-11,\n",
       "        2.91038305e-11, -1.74622983e-10, -2.32830644e-10,  2.61934474e-10,\n",
       "       -2.32830644e-10,  8.73114914e-11,  2.91038305e-10, -5.82076609e-11,\n",
       "        8.73114914e-11,  2.91038305e-10, -5.82076609e-11, -5.82076609e-11,\n",
       "       -5.82076609e-11,  0.00000000e+00,  8.73114914e-11,  2.91038305e-11,\n",
       "        2.91038305e-11, -5.82076609e-11,  3.49245965e-10,  0.00000000e+00,\n",
       "       -5.82076609e-11, -8.73114914e-11, -1.74622983e-10,  0.00000000e+00,\n",
       "        1.16415322e-10, -1.74622983e-10,  0.00000000e+00,  2.91038305e-11,\n",
       "       -8.73114914e-11, -2.91038305e-11,  8.73114914e-11, -8.73114914e-11,\n",
       "        8.73114914e-11, -5.82076609e-11, -2.61934474e-10, -2.91038305e-11,\n",
       "       -2.91038305e-11,  5.82076609e-11, -2.91038305e-11,  0.00000000e+00,\n",
       "        5.82076609e-11, -2.91038305e-11,  5.82076609e-11, -5.82076609e-11,\n",
       "       -4.94765118e-10, -5.82076609e-11,  2.03726813e-10,  2.32830644e-10,\n",
       "        2.91038305e-11,  4.65661287e-10,  1.74622983e-10,  1.16415322e-10,\n",
       "        2.03726813e-10,  2.91038305e-11,  5.82076609e-11,  2.61934474e-10,\n",
       "       -2.91038305e-11,  2.91038305e-11,  2.91038305e-11,  0.00000000e+00,\n",
       "        0.00000000e+00,  5.82076609e-11,  0.00000000e+00, -5.82076609e-11,\n",
       "        2.91038305e-11,  0.00000000e+00,  2.91038305e-11,  5.82076609e-11,\n",
       "        2.91038305e-11,  5.82076609e-11,  0.00000000e+00,  5.82076609e-11,\n",
       "       -8.73114914e-11,  2.91038305e-10, -8.73114914e-11,  0.00000000e+00,\n",
       "        5.82076609e-11, -2.03726813e-10,  1.45519152e-10, -1.54250301e-09,\n",
       "       -5.82076609e-11,  0.00000000e+00,  5.82076609e-11,  0.00000000e+00,\n",
       "        5.82076609e-11, -5.82076609e-11, -5.82076609e-11, -1.16415322e-10,\n",
       "        0.00000000e+00,  2.91038305e-11, -2.91038305e-11, -2.91038305e-11,\n",
       "        2.91038305e-11, -8.73114914e-11, -2.91038305e-11, -2.91038305e-11,\n",
       "       -2.91038305e-11, -2.91038305e-11, -1.45519152e-10,  3.20142135e-10,\n",
       "        0.00000000e+00, -4.36557457e-11, -2.03726813e-10,  0.00000000e+00,\n",
       "       -2.91038305e-11,  8.73114914e-11, -4.36557457e-11, -5.82076609e-11,\n",
       "        7.27595761e-11, -1.45519152e-10, -2.91038305e-11,  1.16415322e-10,\n",
       "        1.45519152e-11,  0.00000000e+00,  1.01863407e-10, -1.45519152e-11,\n",
       "       -2.76486389e-10])"
      ]
     },
     "execution_count": 151,
     "metadata": {},
     "output_type": "execute_result"
    }
   ],
   "source": [
    "b_equiv.array[heating_dofs]"
   ]
  },
  {
   "cell_type": "code",
   "execution_count": 152,
   "id": "24bcb301",
   "metadata": {},
   "outputs": [
    {
     "name": "stdout",
     "output_type": "stream",
     "text": [
      "inf-norm difference  |u_chk - u_ss|  = 1.042e-08\n"
     ]
    }
   ],
   "source": [
    "u_chk = fem.Function(spaces.V)             # empty CG-1 temp\n",
    "solver = PETSc.KSP().create(A_free.comm)\n",
    "solver.setOperators(A_free)\n",
    "solver.setType(PETSc.KSP.Type.PREONLY)\n",
    "solver.getPC().setType(PETSc.PC.Type.LU)\n",
    "\n",
    "solver.solve(b_equiv, u_chk.x.petsc_vec)\n",
    "u_chk.x.scatter_forward()\n",
    "\n",
    "err = np.linalg.norm(u_chk.x.array - u_ss.x.array, np.inf)\n",
    "print(f\"inf-norm difference  |u_chk - u_ss|  = {err:.3e}\")\n",
    "\n",
    "# b equiv reproduces load of steady state problem"
   ]
  },
  {
   "cell_type": "markdown",
   "id": "f439ddd3",
   "metadata": {},
   "source": [
    "Tag ir boundaries"
   ]
  },
  {
   "cell_type": "code",
   "execution_count": 153,
   "id": "2900e16d",
   "metadata": {},
   "outputs": [
    {
     "name": "stdout",
     "output_type": "stream",
     "text": [
      "Tagged IR boundaries: {'pside ir_left': 1, 'pside ir_right': 2, 'oside ir_left': 3, 'oside ir_right': 4}\n"
     ]
    }
   ],
   "source": [
    "# Tag IR boundaries post mesh creation using facet coordinates\n",
    "import numpy as np\n",
    "from dolfinx import mesh as dmesh\n",
    "from dolfinx.mesh import MeshTags\n",
    "\n",
    "# Get mesh and geometry\n",
    "mesh = spaces.mesh\n",
    "geometry = mesh.geometry.x\n",
    "facet_dim = mesh.topology.dim - 1\n",
    "mesh.topology.create_connectivity(facet_dim, 0)\n",
    "\n",
    "# IR region boundaries\n",
    "ir_boundaries = [\n",
    "    (bx_ir_pside, BX_ir_pside, 'pside ir'),\n",
    "    (bx_ir_oside, BX_ir_oside, 'oside ir')\n",
    "]\n",
    "\n",
    "tol = 1e-12  # Tolerance for coordinate matching\n",
    "facet_indices = np.arange(mesh.topology.index_map(facet_dim).size_local)\n",
    "facet_midpoints = np.array([\n",
    "    geometry[mesh.topology.connectivity(facet_dim, 0).links(f)].mean(axis=0)\n",
    "    for f in facet_indices\n",
    "])\n",
    "\n",
    "# Tag facets for each IR left/right boundary\n",
    "ir_facet_tags = []\n",
    "ir_facet_values = []\n",
    "tag_val = 1\n",
    "ir_facet_map = {}\n",
    "for x0, x1, tag in ir_boundaries:\n",
    "    # Left boundary (x = x0)\n",
    "    left_facets = facet_indices[np.abs(facet_midpoints[:, 0] - x0) < tol]\n",
    "    ir_facet_tags.append(left_facets)\n",
    "    ir_facet_values.extend([tag_val] * len(left_facets))\n",
    "    ir_facet_map[f\"{tag}_left\"] = tag_val\n",
    "    tag_val += 1\n",
    "    # Right boundary (x = x1)\n",
    "    right_facets = facet_indices[np.abs(facet_midpoints[:, 0] - x1) < tol]\n",
    "    ir_facet_tags.append(right_facets)\n",
    "    ir_facet_values.extend([tag_val] * len(right_facets))\n",
    "    ir_facet_map[f\"{tag}_right\"] = tag_val\n",
    "    tag_val += 1\n",
    "\n",
    "from dolfinx.mesh import meshtags\n",
    "# Flatten and create MeshTags\n",
    "all_facets = np.concatenate(ir_facet_tags)\n",
    "all_values = np.array(ir_facet_values, dtype=np.int32)\n",
    "if len(all_facets) > 0:\n",
    "    ir_mesh_tags = meshtags(mesh, facet_dim, all_facets, all_values)\n",
    "else:\n",
    "    ir_mesh_tags = None\n",
    "\n",
    "# Save for later use\n",
    "spaces.ir_facet_tags = ir_mesh_tags\n",
    "spaces.ir_facet_map = ir_facet_map\n",
    "\n",
    "print(\"Tagged IR boundaries:\", ir_facet_map)"
   ]
  },
  {
   "cell_type": "code",
   "execution_count": 154,
   "id": "f4265330",
   "metadata": {},
   "outputs": [
    {
     "data": {
      "text/plain": [
       "{'pside ins': 1, 'pside ir': 2, 'sample': 3, 'oside ir': 4, 'oside ins': 5}"
      ]
     },
     "execution_count": 154,
     "metadata": {},
     "output_type": "execute_result"
    }
   ],
   "source": [
    "spaces.cell_map"
   ]
  },
  {
   "cell_type": "code",
   "execution_count": 155,
   "id": "148dfa26",
   "metadata": {},
   "outputs": [],
   "source": [
    "transient_obj_bcs = [left_bc, right_bc, bottom_bc, trans_pside_bc]\n",
    "transient_dolfinx_bcs = [x.bc for x in transient_obj_bcs]"
   ]
  },
  {
   "cell_type": "code",
   "execution_count": 159,
   "id": "d8afad42",
   "metadata": {},
   "outputs": [],
   "source": [
    "time_stop = 7.0e-6\n",
    "num_steps = 200\n",
    "dt = time_stop/num_steps\n",
    "\n",
    "u_n = u_ss.copy()  # Start from steady state solution\n",
    "a_form, L_form = spaces.build_variational_forms(rho_cv_fxn, k_fxn, u_n, dt)\n",
    "u_n.name = 'Temperature (K)'\n",
    "\n",
    "# Strip out the p-side rows so only the o-side load remains\n",
    "b_oside = b_equiv.copy()\n",
    "\n",
    "heating_dofs = trans_pside_bc.row_dofs\n",
    "b_oside.setValues(trans_pside_bc.row_dofs, np.zeros(len(heating_dofs)))\n",
    "b_oside.scale(dt)  # Scale the load by dt\n",
    "b_oside.assemblyBegin()\n",
    "b_oside.assemblyEnd()\n",
    "\n",
    "\n",
    "# Matrix that *does* clamp the p-side\n",
    "A = assemble_matrix(a_form, bcs=transient_dolfinx_bcs)\n",
    "A.assemble()\n",
    "# setup solver\n",
    "\n",
    "solver = PETSc.KSP().create(A.getComm())\n",
    "solver.setOperators(A)\n",
    "solver.setType(PETSc.KSP.Type.PREONLY)\n",
    "solver.getPC().setType(PETSc.PC.Type.LU)\n",
    "\n",
    "from io_utilities.xdmf_utils import *\n",
    "\n",
    "outputs_folder = os.path.join(os.getcwd(), 'sim_outputs')\n",
    "save_folder = os.path.join(outputs_folder, 'new_trans_test')\n",
    "os.makedirs(save_folder, exist_ok=True)\n",
    "\n",
    "xdmf = init_xdmf(spaces.mesh, save_folder, 'solution')\n",
    "xdmf.write_function(u_n, 0.0)\n"
   ]
  },
  {
   "cell_type": "code",
   "execution_count": 160,
   "metadata": {},
   "outputs": [
    {
     "name": "stdout",
     "output_type": "stream",
     "text": [
      "Simulation progress: 10% (step 20/200)\n",
      "Simulation progress: 20% (step 40/200)\n",
      "Simulation progress: 30% (step 60/200)\n",
      "Simulation progress: 40% (step 80/200)\n",
      "Simulation progress: 50% (step 100/200)\n",
      "Simulation progress: 60% (step 120/200)\n",
      "Simulation progress: 70% (step 140/200)\n",
      "Simulation progress: 80% (step 160/200)\n",
      "Simulation progress: 90% (step 180/200)\n",
      "Simulation progress: 100% (step 200/200)\n"
     ]
    }
   ],
   "source": [
    "for x in transient_obj_bcs:\n",
    "    x.update(0.0)\n",
    "\n",
    "b = b_oside.copy()  # Copy the oside load\n",
    "\n",
    "progress_interval = max(1, num_steps // 10)\n",
    "for step in range(num_steps):\n",
    "    t = (step+1)*dt\n",
    "    for bc in transient_obj_bcs:\n",
    "        bc.update(t)\n",
    "\n",
    "    b = b_oside.copy()  # Copy the oside load\n",
    "    fem.petsc.assemble_vector(b, L_form)\n",
    "    fem.petsc.apply_lifting(b, [a_form], [transient_dolfinx_bcs])\n",
    "    b.ghostUpdate(addv=PETSc.InsertMode.ADD_VALUES, mode=PETSc.ScatterMode.REVERSE)\n",
    "    fem.petsc.set_bc(b, transient_dolfinx_bcs)\n",
    "\n",
    "    solver.solve(b, u_n.x.petsc_vec)\n",
    "    u_n.x.scatter_forward()\n",
    "\n",
    "    u_n.x.array[:] = u_n.x.array\n",
    "\n",
    "    xdmf.write_function(u_n, t)\n",
    "\n",
    "    if (step + 1) % progress_interval == 0 or (step + 1) == num_steps:\n",
    "        percent = int((step + 1) / num_steps * 100)\n",
    "        print(f\"Simulation progress: {percent}% (step {step + 1}/{num_steps})\")\n",
    "\n",
    "xdmf.close()\n"
   ]
  },
  {
   "cell_type": "code",
   "execution_count": 161,
   "metadata": {},
   "outputs": [
    {
     "data": {
      "image/png": "[encoded data removed]",
      "text/plain": [
       "<Figure size 640x480 with 1 Axes>"
      ]
     },
     "metadata": {},
     "output_type": "display_data"
    }
   ],
   "source": [
    "from io_utilities.xdmf_extract import *\n",
    "\n",
    "time, data = extract_point_timeseries_xdmf(\n",
    "    os.path.join(save_folder, 'solution.xdmf'),\n",
    "    function_name='Temperature (K)',\n",
    "    query_points=[(bx_ir_pside, 0), (BX_ir_oside, 0)]\n",
    ")\n",
    "\n",
    "sim_df = pd.DataFrame({'time': time,\n",
    "                       'pside': data[0],\n",
    "                       'oside': data[1]})\n",
    "\n",
    "sim_df['normed pside'] = (sim_df['pside'] - sim_df['pside'].iloc[0]) / (sim_df['pside'].max() - sim_df['pside'].min())\n",
    "sim_df['normed oside'] = (sim_df['oside'] - sim_df['oside'].iloc[0]) / (sim_df['pside'].max() - sim_df['pside'].min())\n",
    "\n",
    "import matplotlib.pyplot as plt\n",
    "fig, ax = plt.subplots()\n",
    "ax.set_title('Normed Temperatures with No Diamond')\n",
    "ax.plot(df_pside['time'], df_pside['normed temperature'], label='Geballe pside')\n",
    "ax.plot(df_oside['time'], df_oside['normed temperature'], label='Geballe oside')\n",
    "ax.plot(sim_df['time'], sim_df['normed pside'], label='sim pside')\n",
    "ax.plot(sim_df['time'], sim_df['normed oside'], label='sim oside')\n",
    "ax.grid(True, ls = '--', color = 'lightgray')\n",
    "\n",
    "\n",
    "ax.legend()\n",
    "plt.show()\n"
   ]
  },
  {
   "cell_type": "code",
   "execution_count": null,
   "id": "3f00d56e",
   "metadata": {},
   "outputs": [
    {
     "data": {
      "text/plain": [
       "2291.7715498251996"
      ]
     },
     "execution_count": 130,
     "metadata": {},
     "output_type": "execute_result"
    }
   ],
   "source": [
    "max(sim_df['pside'])"
   ]
  },
  {
   "cell_type": "code",
   "execution_count": null,
   "id": "e3c66d1c",
   "metadata": {},
   "outputs": [
    {
     "data": {
      "text/plain": [
       "nan"
      ]
     },
     "execution_count": 131,
     "metadata": {},
     "output_type": "execute_result"
    }
   ],
   "source": [
    "max(sim_df['normed oside'] - max(df_oside['normed temperature']))"
   ]
  },
  {
   "cell_type": "code",
   "execution_count": null,
   "id": "4ce1b07b",
   "metadata": {},
   "outputs": [
    {
     "data": {
      "text/plain": [
       "np.float64(287.88913300000013)"
      ]
     },
     "execution_count": 132,
     "metadata": {},
     "output_type": "execute_result"
    }
   ],
   "source": [
    "df_oside['temperature'].iloc[0] - df_pside['temperature'].iloc[0]"
   ]
  },
  {
   "cell_type": "code",
   "execution_count": null,
   "metadata": {},
   "outputs": [
    {
     "data": {
      "image/png": "[encoded data removed]",
      "text/plain": [
       "<Figure size 640x480 with 1 Axes>"
      ]
     },
     "metadata": {},
     "output_type": "display_data"
    }
   ],
   "source": [
    "\n",
    "query_points = []\n",
    "xmin = bx_ir_pside - 2e-6\n",
    "xmax = BX_ir_oside + 2e-6\n",
    "samples = 200\n",
    "\n",
    "for x in np.linspace(xmin, xmax, samples):\n",
    "    query_points.append((x, 0.0))\n",
    "\n",
    "time, data = extract_point_timeseries_xdmf(\n",
    "    os.path.join(save_folder, 'solution.xdmf'),\n",
    "    function_name='Temperature (K)',\n",
    "    query_points=query_points\n",
    ")\n",
    "locations = np.arange(data.shape[0])\n",
    "\n",
    "sim_df = pd.DataFrame(data, index=locations.astype(int), columns=time)\n",
    "\n",
    "fig, ax = plt.subplots()\n",
    "\n",
    "t0 = 40\n",
    "location_series = (locations/samples) * (xmax - xmin) + xmin\n",
    "ymin = 300\n",
    "ymax = 800\n",
    "\n",
    "ax.plot(location_series, sim_df.iloc[:, t0], zorder = 3, color = 'black')\n",
    "ax.vlines([BX_sample, bx_sample, bx_ir_pside, BX_ir_oside], ymin=ymin, ymax=ymax, ls='--', label='Ir Boundaries', color='indianred', zorder=2, lw=0.9)\n",
    "ax.set_xlim(xmin, xmax)\n",
    "ax.set_ylim(ymin, ymax)\n",
    "ax.set_xlabel('Position')\n",
    "ax.set_ylabel('Temperature')\n",
    "ax.set_title(f'Position vs time along the y=0 line at t={t0*dt*1e6:.2f}us')\n",
    "ax.legend()\n",
    "plt.show()\n"
   ]
  },
  {
   "cell_type": "code",
   "execution_count": null,
   "metadata": {},
   "outputs": [],
   "source": []
  }
 ],
 "metadata": {
  "kernelspec": {
   "display_name": "fenicsx-env",
   "language": "python",
   "name": "python3"
  },
  "language_info": {
   "codemirror_mode": {
    "name": "ipython",
    "version": 3
   },
   "file_extension": ".py",
   "mimetype": "text/x-python",
   "name": "python",
   "nbconvert_exporter": "python",
   "pygments_lexer": "ipython3",
   "version": "3.11.12"
  }
 },
 "nbformat": 4,
 "nbformat_minor": 5
}
