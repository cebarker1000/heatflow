{
 "cells": [
  {
   "cell_type": "code",
   "execution_count": 1,
   "id": "915584f7",
   "metadata": {},
   "outputs": [],
   "source": [
    "# start gmsh and import your utils\n",
    "import gmsh\n",
    "from mesh_utils import Material, Mesh"
   ]
  },
  {
   "cell_type": "code",
   "execution_count": 2,
   "id": "0a85ed85",
   "metadata": {},
   "outputs": [],
   "source": [
    "# define sample geometries\n",
    "\n",
    "d_ins_osde = 6.3e-6\n",
    "d_ins_pside = 3.2e-6\n",
    "d_sample = 1.84e-6\n",
    "\n",
    "# derive / set mesh boundaries\n",
    "x_length = d_ins_osde + d_ins_pside + d_sample\n",
    "mesh_xmin, mesh_xmax = -(x_length/2), x_length/2\n",
    "\n",
    "mesh_ymin, mesh_ymax = -20e-6, 20e-6"
   ]
  },
  {
   "cell_type": "code",
   "execution_count": 5,
   "id": "a0a4a06a",
   "metadata": {},
   "outputs": [
    {
     "name": "stdout",
     "output_type": "stream",
     "text": [
      "Info    : Meshing 1D...nts                                                                                                             \n",
      "Info    : [  0%] Meshing curve 1 (Line)\n",
      "Info    : [ 20%] Meshing curve 2 (Line)\n",
      "Info    : [ 30%] Meshing curve 3 (Line)\n",
      "Info    : [ 40%] Meshing curve 4 (Line)\n",
      "Info    : [ 50%] Meshing curve 5 (Line)\n",
      "Info    : [ 60%] Meshing curve 6 (Line)\n",
      "Info    : [ 70%] Meshing curve 7 (Line)\n",
      "Info    : [ 80%] Meshing curve 8 (Line)\n",
      "Info    : [ 90%] Meshing curve 9 (Line)\n",
      "Info    : [100%] Meshing curve 10 (Line)\n",
      "Info    : Done meshing 1D (Wall 0.00174854s, CPU 0.002254s)\n",
      "Info    : Meshing 2D...\n",
      "Info    : [  0%] Meshing surface 2 (Plane, Frontal-Delaunay)\n",
      "Info    : [ 40%] Meshing surface 3 (Plane, Frontal-Delaunay)\n",
      "Info    : [ 70%] Meshing surface 4 (Plane, Frontal-Delaunay)\n",
      "Info    : Done meshing 2D (Wall 4.13481s, CPU 4.06643s)\n",
      "Info    : 121206 nodes 244018 elements\n"
     ]
    }
   ],
   "source": [
    "# define materials\n",
    "ins_oside = Material(\n",
    "    name=\"oside insulator\",\n",
    "    boundaries=[mesh_xmin, mesh_xmin + d_ins_osde, mesh_ymin, mesh_ymax],\n",
    "    mesh_size=0.1e-6\n",
    ")\n",
    "ins_pside = Material(\n",
    "    name=\"pside insulator\",\n",
    "    boundaries=[mesh_xmax - d_ins_pside, mesh_xmax, mesh_ymin, mesh_ymax],\n",
    "    mesh_size=0.1e-6\n",
    ")\n",
    "sample = Material(\n",
    "    name = 'sample',\n",
    "    boundaries = [mesh_xmin + d_ins_osde, mesh_xmax - d_ins_pside, mesh_ymin, mesh_ymax],\n",
    "    mesh_size = 0.05e-6\n",
    ")\n",
    "\n",
    "mesh = Mesh(\n",
    "    name=\"demo\",\n",
    "    boundaries=[mesh_xmin, mesh_xmax, mesh_ymin, mesh_ymax],\n",
    "    materials=[ins_oside, ins_pside, sample],\n",
    "    default_mesh_size=0.2e-6\n",
    ")\n",
    "mesh.build_mesh()            # this sets up Box fields + Min field under the hood\n"
   ]
  },
  {
   "cell_type": "code",
   "execution_count": 6,
   "id": "0a21f0b7",
   "metadata": {},
   "outputs": [
    {
     "name": "stdout",
     "output_type": "stream",
     "text": [
      "Info    : Writing 'demo_boxfield.msh'...\n",
      "Info    : Done writing 'demo_boxfield.msh'\n",
      "-------------------------------------------------------\n",
      "Version       : 4.13.1\n",
      "License       : GNU General Public License\n",
      "Build OS      : Linux64-sdk\n",
      "Build date    : 20240524\n",
      "Build host    : gmsh.info\n",
      "Build options : 64Bit ALGLIB[contrib] ANN[contrib] Bamg Blas[petsc] Blossom Cgns DIntegration Dlopen DomHex Eigen[contrib] Fltk Gmm[contrib] Hxt Jpeg Kbipack Lapack[petsc] LinuxJoystick MathEx[contrib] Med Mesh Metis[contrib] Mmg Mpeg Netgen Nii2mesh ONELAB ONELABMetamodel OpenCASCADE OpenCASCADE-CAF OpenGL OpenMP OptHom PETSc Parser Plugins Png Post QuadMeshingTools QuadTri Solver TetGen/BR TinyXML2[contrib] Untangle Voro++[contrib] WinslowUntangler Zlib\n",
      "FLTK version  : 1.4.0\n",
      "PETSc version : 3.14.4 (real arithmtic)\n",
      "OCC version   : 7.7.2\n",
      "MED version   : 4.1.0\n",
      "Packaged by   : geuzaine\n",
      "Web site      : https://gmsh.info\n",
      "Issue tracker : https://gitlab.onelab.info/gmsh/gmsh/issues\n",
      "-------------------------------------------------------\n"
     ]
    }
   ],
   "source": [
    "gmsh.write(\"demo_boxfield.msh\")\n",
    "gmsh.fltk.run()              # pops up the Gmsh window\n",
    "gmsh.finalize()"
   ]
  }
 ],
 "metadata": {
  "kernelspec": {
   "display_name": "fenicsx-env",
   "language": "python",
   "name": "python3"
  },
  "language_info": {
   "codemirror_mode": {
    "name": "ipython",
    "version": 3
   },
   "file_extension": ".py",
   "mimetype": "text/x-python",
   "name": "python",
   "nbconvert_exporter": "python",
   "pygments_lexer": "ipython3",
   "version": "3.11.12"
  }
 },
 "nbformat": 4,
 "nbformat_minor": 5
}
