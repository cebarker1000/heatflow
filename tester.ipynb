{
 "cells": [
  {
   "cell_type": "code",
   "execution_count": 99,
   "id": "a60ad9c3",
   "metadata": {},
   "outputs": [
    {
     "name": "stdout",
     "output_type": "stream",
     "text": [
      "The autoreload extension is already loaded. To reload it, use:\n",
      "  %reload_ext autoreload\n"
     ]
    }
   ],
   "source": [
    "%load_ext autoreload\n",
    "%autoreload 2"
   ]
  },
  {
   "cell_type": "code",
   "execution_count": 100,
   "id": "432787f9",
   "metadata": {},
   "outputs": [],
   "source": [
    "import gmsh\n",
    "from dolfinx import fem\n",
    "import pandas as pd\n",
    "import numpy as np\n",
    "\n",
    "from mesh_and_materials.mesh import *\n",
    "from mesh_and_materials.materials import *\n",
    "from space.space_and_forms import *\n",
    "from dirichlet_bc.bc import *"
   ]
  },
  {
   "cell_type": "code",
   "execution_count": 101,
   "id": "8e10b9e1",
   "metadata": {},
   "outputs": [],
   "source": [
    "# load experimental data\n",
    "\n",
    "df = pd.read_csv(\"experimental_data/geballe_2020_fig3_left_approx.csv\")\n",
    "\n",
    "df = df.copy()\n",
    "df = df.iloc[1:].reset_index(drop=True)\n",
    "\n",
    "df_pside = df[['Front', 'Unnamed: 1']].copy()\n",
    "df_oside = df[['Back',  'Unnamed: 3']].copy()\n",
    "\n",
    "df_pside.columns = ['time', 'temperature']\n",
    "df_oside.columns = ['time', 'temperature']\n",
    "\n",
    "df_pside = (df_pside\n",
    "            .apply(pd.to_numeric)\n",
    "            .dropna()\n",
    "            .sort_values('time')\n",
    "            .reset_index(drop=True))\n",
    "\n",
    "df_oside = (df_oside\n",
    "            .apply(pd.to_numeric)\n",
    "            .dropna()\n",
    "            .sort_values('time')\n",
    "            .reset_index(drop=True))\n",
    "\n",
    "df_pside['time'] = df_pside['time']* 10 **-6\n",
    "df_oside['time'] = df_oside['time']* 10 **-6"
   ]
  },
  {
   "cell_type": "code",
   "execution_count": 102,
   "id": "cb0dc14a",
   "metadata": {},
   "outputs": [],
   "source": [
    "# define sample geometries\n",
    "\n",
    "d_ins_oside = 6.3e-6\n",
    "d_ins_pside = 3.2e-6\n",
    "d_sample = 1.84e-6\n",
    "\n",
    "# derive / set mesh boundaries\n",
    "x_length = d_ins_oside + d_ins_pside + d_sample\n",
    "mesh_xmin, mesh_xmax = -(x_length/2), x_length/2\n",
    "\n",
    "mesh_ymin, mesh_ymax = -20e-6, 20e-6"
   ]
  },
  {
   "cell_type": "code",
   "execution_count": null,
   "id": "6d879d79",
   "metadata": {},
   "outputs": [],
   "source": [
    "# define simulation parameters\n",
    "\n",
    "t_stop = 7.0e-6\n",
    "num_steps = 200\n",
    "dt = t_stop / num_steps\n",
    "\n",
    "heating_FWHM = 13.2e-6\n",
    "ic_temp = 300.0"
   ]
  },
  {
   "cell_type": "code",
   "execution_count": 104,
   "id": "790fd16e",
   "metadata": {},
   "outputs": [
    {
     "name": "stdout",
     "output_type": "stream",
     "text": [
      "Info    : Meshing 1D...nts                                                                                                             \n",
      "Info    : [  0%] Meshing curve 1 (Line)\n",
      "Info    : [ 20%] Meshing curve 2 (Line)\n",
      "Info    : [ 30%] Meshing curve 3 (Line)\n",
      "Info    : [ 40%] Meshing curve 4 (Line)\n",
      "Info    : [ 50%] Meshing curve 5 (Line)\n",
      "Info    : [ 60%] Meshing curve 6 (Line)\n",
      "Info    : [ 70%] Meshing curve 7 (Line)\n",
      "Info    : [ 80%] Meshing curve 8 (Line)\n",
      "Info    : [ 90%] Meshing curve 9 (Line)\n",
      "Info    : [100%] Meshing curve 10 (Line)\n",
      "Info    : Done meshing 1D (Wall 0.00114131s, CPU 0.001385s)\n",
      "Info    : Meshing 2D...\n",
      "Info    : [  0%] Meshing surface 2 (Plane, Frontal-Delaunay)\n",
      "Info    : [ 40%] Meshing surface 3 (Plane, Frontal-Delaunay)\n",
      "Info    : [ 70%] Meshing surface 4 (Plane, Frontal-Delaunay)\n",
      "Info    : Done meshing 2D (Wall 0.891746s, CPU 0.894253s)\n",
      "Info    : 30684 nodes 62174 elements\n"
     ]
    }
   ],
   "source": [
    "# define materials\n",
    "ins_pside = Material(\n",
    "    name=\"oside insulator\",\n",
    "    boundaries=[mesh_xmin, mesh_xmin + d_ins_pside, mesh_ymin, mesh_ymax],\n",
    "    mesh_size=0.2e-6,\n",
    "    properties={'rho_cv' : 4131*668, 'k': 10}\n",
    ")\n",
    "ins_oside = Material(\n",
    "    name=\"pside insulator\",\n",
    "    boundaries=[mesh_xmax - d_ins_oside, mesh_xmax, mesh_ymin, mesh_ymax],\n",
    "    mesh_size=0.2e-6,\n",
    "    properties={'rho_cv' : 4131*668, 'k': 10}\n",
    ")\n",
    "sample = Material(\n",
    "    name = 'sample',\n",
    "    boundaries = [mesh_xmin + d_ins_pside, mesh_xmax - d_ins_oside, mesh_ymin, mesh_ymax],\n",
    "    mesh_size = 0.1e-6,\n",
    "    properties={'rho_cv': 5164*1158, 'k': 3.9},\n",
    ")\n",
    "\n",
    "materials = [ins_oside, ins_pside, sample]\n",
    "\n",
    "gmsh_domain = Mesh(\n",
    "    name=\"demo\",\n",
    "    boundaries=[mesh_xmin, mesh_xmax, mesh_ymin, mesh_ymax],\n",
    "    materials=[ins_oside, ins_pside, sample],\n",
    "    default_mesh_size=0.5e-6\n",
    ")\n",
    "gmsh_domain.build_mesh()"
   ]
  },
  {
   "cell_type": "code",
   "execution_count": 105,
   "id": "ddb78d40",
   "metadata": {},
   "outputs": [
    {
     "name": "stdout",
     "output_type": "stream",
     "text": [
      "Info    : Writing 'demo.msh'...\n",
      "Info    : Done writing 'demo.msh'\n",
      "Info    : Reading 'demo.msh'...\n",
      "Info    : 21 entities\n",
      "Info    : 30684 nodes\n",
      "Info    : 60828 elements\n",
      "Info    : Done reading 'demo.msh'\n"
     ]
    },
    {
     "name": "stderr",
     "output_type": "stream",
     "text": [
      "Warning : Gmsh has aleady been initialized\n"
     ]
    }
   ],
   "source": [
    "gmsh_domain.write('demo.msh')\n",
    "dolfinx_domain = Mesh.msh_to_dolfinx('demo.msh')"
   ]
  },
  {
   "cell_type": "code",
   "execution_count": 106,
   "id": "edc68f11",
   "metadata": {},
   "outputs": [],
   "source": [
    "# define spaces, interpolate materials\n",
    "\n",
    "spaces = Space(dolfinx_domain, V_family='Lagrange', V_degree = 1, Q_family='DG', Q_degree = 0)\n",
    "rho_cv_fxn = spaces.assign_material_property(materials, 'rho_cv')\n",
    "k_fxn = spaces.assign_material_property(materials, 'k')"
   ]
  },
  {
   "cell_type": "code",
   "execution_count": null,
   "id": "6c9c5391",
   "metadata": {},
   "outputs": [],
   "source": [
    "# define initial conditions\n",
    "\n",
    "ic_fxn = spaces.initial_condition(ic_temp.0)\n",
    "u_n = fem.Function(spaces.V)\n",
    "u_n.x.array[:] = ic_fxn.x.array\n",
    "u_n.x.scatter_forward()"
   ]
  },
  {
   "cell_type": "code",
   "execution_count": 113,
   "id": "4c69450b",
   "metadata": {},
   "outputs": [
    {
     "data": {
      "image/png": "[encoded data removed]",
      "text/plain": [
       "<Figure size 640x480 with 1 Axes>"
      ]
     },
     "metadata": {},
     "output_type": "display_data"
    }
   ],
   "source": [
    "# define boundary conditions\n",
    "\n",
    "# interpolate bc spline\n",
    "from scipy.interpolate import make_interp_spline\n",
    "pside_heating_spline_interp = make_interp_spline(df_pside['time'], df_pside['temperature'], k=3)\n",
    "\n",
    "offset = df_pside['temperature'].iloc[0] - 300\n",
    "def heating_offset(t):\n",
    "    return float(pside_heating_spline_interp(t)) - offset\n",
    "\n",
    "\n",
    "# check that spline is reasonable\n",
    "import matplotlib.pyplot as plt\n",
    "fig, ax = plt.subplots()\n",
    "\n",
    "ax.scatter(df_pside['time'], df_pside['temperature']-offset, color = 'black', zorder = 1)\n",
    "\n",
    "synthetic_x = np.linspace(min(df_pside['time']), max(df_pside['time']), 200)\n",
    "ax.plot(synthetic_x, [heating_offset(x) for x in synthetic_x], zorder = 2)\n",
    "plt.show()"
   ]
  },
  {
   "cell_type": "code",
   "execution_count": null,
   "id": "b3c9d702",
   "metadata": {},
   "outputs": [],
   "source": [
    "# define boundary conditions\n",
    "\n",
    "outer_bc = RowDirichletBC(spaces.V, 'outer', value = 300.0) # defines a BC for a specific ``row`` (or column) of dofs\n",
    "\n",
    "# inner spatially and time variable BC\n",
    "\n",
    "# gaussian width coeff\n",
    "coeff = -4.0 * np.log(2.0) / heating_FWHM**2\n",
    "\n",
    "# Center of your heating patch along the y‐axis (adjust if needed)\n",
    "y_center = 0.0  \n",
    "\n",
    "def gaussian(x, y, t):\n",
    "    \"\"\"\n",
    "    Gaussian in y (peaks at y_center, width heating_FWHM),\n",
    "    amplitude given by pside_heating_spline_interp(t).\n",
    "    \"\"\"\n",
    "    amp = heating_offset(t)\n",
    "    return (amp - ic_temp) * np.exp(coeff * (y - y_center)**2) + ic_temp\n",
    "    \n",
    "inner_bc = RowDirichletBC(\n",
    "    spaces.V,\n",
    "    'x',\n",
    "    coord=mesh_xmin + d_ins_pside,\n",
    "    length=heating_FWHM*2,\n",
    "    value=gaussian\n",
    ")\n",
    "\n",
    "bcs = [outer_bc.bc, inner_bc.bc]"
   ]
  },
  {
   "cell_type": "code",
   "execution_count": 110,
   "id": "0a62e8c8",
   "metadata": {},
   "outputs": [],
   "source": [
    "from dolfinx.fem.petsc import assemble_matrix\n",
    "\n",
    "# init forms\n",
    "\n",
    "a_form, L_form = spaces.build_variational_forms(rho_cv_fxn, k_fxn, u_n, dt)\n",
    "\n",
    "# init system matrix\n",
    "A = assemble_matrix(spaces.a_form, bcs=bcs)\n",
    "A.assemble()\n",
    "\n",
    "# init RHS vector\n",
    "b = fem.petsc.create_vector(L_form)\n",
    "\n",
    "# init solver\n",
    "\n",
    "# Create a KSP (Krylov Subspace) solver on the same MPI communicator as A\n",
    "solver = PETSc.KSP().create(A.getComm())\n",
    "# Set the operator (matrix) for the solver\n",
    "solver.setOperators(A)\n",
    "# Use the PREONLY solver type (no Krylov iterations, direct solve)\n",
    "solver.setType(PETSc.KSP.Type.PREONLY)\n",
    "# Use LU factorization as the preconditioner (exact solve)\n",
    "solver.getPC().setType(PETSc.PC.Type.LU)"
   ]
  },
  {
   "cell_type": "code",
   "execution_count": 111,
   "id": "f7095eb8",
   "metadata": {},
   "outputs": [],
   "source": [
    "# define outputs folder\n",
    "\n",
    "import os\n",
    "outputs_folder = os.path.join(os.getcwd(), 'sim_outputs')\n",
    "\n",
    "# init io\n",
    "from io_utilities.xdmf_utils import *\n",
    "\n",
    "save_folder = os.path.join(outputs_folder, 'test_run_1')\n",
    "os.makedirs(save_folder, exist_ok=True)\n",
    "\n",
    "xdmf = init_xdmf(spaces.mesh, save_folder, 'solution')\n",
    "uh = fem.Function(spaces.V)\n",
    "uh.name = 'Temperature (K)'\n",
    "uh.interpolate(ic_fxn)\n",
    "xdmf.write_function(uh, 0.0)"
   ]
  },
  {
   "cell_type": "code",
   "execution_count": 112,
   "id": "c6e85ed0",
   "metadata": {},
   "outputs": [
    {
     "name": "stdout",
     "output_type": "stream",
     "text": [
      "Simulation progress: 10% (step 20/200)\n",
      "Simulation progress: 20% (step 40/200)\n",
      "Simulation progress: 30% (step 60/200)\n",
      "Simulation progress: 40% (step 80/200)\n",
      "Simulation progress: 50% (step 100/200)\n",
      "Simulation progress: 60% (step 120/200)\n",
      "Simulation progress: 70% (step 140/200)\n",
      "Simulation progress: 80% (step 160/200)\n",
      "Simulation progress: 90% (step 180/200)\n",
      "Simulation progress: 100% (step 200/200)\n"
     ]
    }
   ],
   "source": [
    "# timestepping loop\n",
    "\n",
    "# update the init bcs\n",
    "outer_bc.update(0.0)\n",
    "inner_bc.update(0.0)\n",
    "\n",
    "progress_interval = max(1, num_steps // 10)\n",
    "for step in range(num_steps):\n",
    "    t = (step+1)*dt\n",
    "    inner_bc.update(t)\n",
    "\n",
    "    # reset and assemble rhs vector\n",
    "    with b.localForm() as local_b:\n",
    "        local_b.set(0)\n",
    "    fem.petsc.assemble_vector(b, L_form)\n",
    "\n",
    "    # Apply lifting and BCs to RHS\n",
    "    fem.petsc.apply_lifting(b, [a_form], [bcs])\n",
    "    b.ghostUpdate(addv=PETSc.InsertMode.ADD_VALUES, mode=PETSc.ScatterMode.REVERSE)\n",
    "    fem.petsc.set_bc(b, bcs)\n",
    "\n",
    "    # Solve linear system\n",
    "    solver.solve(b, uh.x.petsc_vec)\n",
    "    uh.x.scatter_forward()\n",
    "\n",
    "    # Update previous solution\n",
    "    u_n.x.array[:] = uh.x.array\n",
    "\n",
    "    # Write solution at current time\n",
    "    xdmf.write_function(uh, t)\n",
    "\n",
    "    # Print progress every 10%\n",
    "    if (step + 1) % progress_interval == 0 or (step + 1) == num_steps:\n",
    "        percent = int((step + 1) / num_steps * 100)\n",
    "        print(f\"Simulation progress: {percent}% (step {step + 1}/{num_steps})\")\n",
    "\n",
    "xdmf.close()"
   ]
  }
 ],
 "metadata": {
  "kernelspec": {
   "display_name": "fenicsx-env",
   "language": "python",
   "name": "python3"
  },
  "language_info": {
   "codemirror_mode": {
    "name": "ipython",
    "version": 3
   },
   "file_extension": ".py",
   "mimetype": "text/x-python",
   "name": "python",
   "nbconvert_exporter": "python",
   "pygments_lexer": "ipython3",
   "version": "3.11.12"
  }
 },
 "nbformat": 4,
 "nbformat_minor": 5
}
