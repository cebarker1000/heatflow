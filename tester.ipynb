{
 "cells": [
  {
   "cell_type": "code",
   "execution_count": 60,
   "id": "a60ad9c3",
   "metadata": {},
   "outputs": [
    {
     "name": "stdout",
     "output_type": "stream",
     "text": [
      "The autoreload extension is already loaded. To reload it, use:\n",
      "  %reload_ext autoreload\n"
     ]
    }
   ],
   "source": [
    "%load_ext autoreload\n",
    "%autoreload 2"
   ]
  },
  {
   "cell_type": "code",
   "execution_count": 61,
   "id": "432787f9",
   "metadata": {},
   "outputs": [],
   "source": [
    "import gmsh\n",
    "from dolfinx import fem\n",
    "import pandas as pd\n",
    "import numpy as np\n",
    "\n",
    "from mesh_and_materials.mesh import *\n",
    "from mesh_and_materials.materials import *\n",
    "from space.space_and_forms import *\n",
    "from dirichlet_bc.bc import *"
   ]
  },
  {
   "cell_type": "code",
   "execution_count": 62,
   "id": "8e10b9e1",
   "metadata": {},
   "outputs": [],
   "source": [
    "# load experimental data\n",
    "\n",
    "df = pd.read_csv(\"experimental_data/geballe_2020_fig3_left_approx.csv\")\n",
    "\n",
    "df = df.copy()\n",
    "df = df.iloc[1:].reset_index(drop=True)\n",
    "\n",
    "df_pside = df[['Front', 'Unnamed: 1']].copy()\n",
    "df_oside = df[['Back',  'Unnamed: 3']].copy()\n",
    "\n",
    "df_pside.columns = ['time', 'temperature']\n",
    "df_oside.columns = ['time', 'temperature']\n",
    "\n",
    "df_pside = (df_pside\n",
    "            .apply(pd.to_numeric)\n",
    "            .dropna()\n",
    "            .sort_values('time')\n",
    "            .reset_index(drop=True))\n",
    "\n",
    "df_oside = (df_oside\n",
    "            .apply(pd.to_numeric)\n",
    "            .dropna()\n",
    "            .sort_values('time')\n",
    "            .reset_index(drop=True))\n",
    "\n",
    "df_pside['time'] = df_pside['time']* 10 **-6\n",
    "df_oside['time'] = df_oside['time']* 10 **-6\n",
    "\n",
    "df_pside['normed temperature'] = (df_pside['temperature'] - df_pside['temperature'].iloc[0]) / (max(df_pside['temperature']) - min(df_pside['temperature']))\n",
    "df_oside['normed temperature'] = (df_oside['temperature'] - df_oside['temperature'].iloc[0]) / (max(df_pside['temperature']) - min(df_pside['temperature']))\n"
   ]
  },
  {
   "cell_type": "code",
   "execution_count": 63,
   "id": "cb0dc14a",
   "metadata": {},
   "outputs": [],
   "source": [
    "# define sample geometries\n",
    "\n",
    "d_ins_oside = 6.3e-6\n",
    "d_ins_pside = 3.2e-6\n",
    "d_sample = 1.84e-6\n",
    "d_ir = 0.062e-6\n",
    "\n",
    "# derive / set mesh boundaries\n",
    "x_length = d_ins_oside + d_ins_pside + d_sample + 2*d_ir\n",
    "mesh_xmin, mesh_xmax = -(x_length/2), x_length/2\n",
    "\n",
    "mesh_ymin, mesh_ymax = -20e-6, 20e-6"
   ]
  },
  {
   "cell_type": "code",
   "execution_count": 64,
   "id": "6d879d79",
   "metadata": {},
   "outputs": [],
   "source": [
    "# define simulation parameters\n",
    "\n",
    "t_stop = 7.0e-6\n",
    "num_steps = 200\n",
    "dt = t_stop / num_steps\n",
    "\n",
    "heating_FWHM = 13.2e-6\n",
    "ic_temp = 300.0"
   ]
  },
  {
   "cell_type": "code",
   "execution_count": 65,
   "id": "790fd16e",
   "metadata": {},
   "outputs": [],
   "source": [
    "# define materials, working left to right\n",
    "\n",
    "bx_ins_pside = mesh_xmin\n",
    "BX_ins_pside = mesh_xmin + d_ins_pside\n",
    "\n",
    "bx_ir_pside = BX_ins_pside\n",
    "BX_ir_pside = bx_ir_pside+d_ir\n",
    "\n",
    "bx_sample = BX_ir_pside\n",
    "BX_sample = bx_sample+d_sample\n",
    "\n",
    "bx_ir_oside = BX_sample\n",
    "BX_ir_oside = bx_ir_oside + d_ir\n",
    "\n",
    "bx_ins_oside = BX_ir_oside\n",
    "BX_ins_oside = bx_ins_oside + d_ins_oside\n",
    "\n",
    "ins_pside = Material(\n",
    "    \"pside ins\",\n",
    "    [bx_ins_pside, BX_ins_pside, mesh_ymin, mesh_ymax],\n",
    "    properties={\"rho_cv\": 4131 * 668, \"k\": 10},\n",
    "    mesh_size=0.2e-6\n",
    ")\n",
    "\n",
    "ir_pside = Material(\n",
    "    \"pside ir\",\n",
    "    boundaries=[bx_ir_pside, BX_ir_pside, mesh_ymin, mesh_ymax],\n",
    "    properties={\"rho_cv\": 26504 * 130, \"k\": 352},\n",
    "    mesh_size=0.05e-6\n",
    ")\n",
    "\n",
    "sample = Material(\n",
    "    \"sample\",\n",
    "    boundaries=[bx_sample, BX_sample, mesh_ymin, mesh_ymax],\n",
    "    properties={\"rho_cv\": 5164 * 1158, \"k\": 3.9},\n",
    "    mesh_size=0.1e-6\n",
    ")\n",
    "\n",
    "ir_oside = Material(\n",
    "    \"oside ir\",\n",
    "    boundaries=[bx_ir_oside, BX_ir_oside, mesh_ymin, mesh_ymax],\n",
    "    properties={\"rho_cv\": 26504 * 130, \"k\": 352},\n",
    "    mesh_size=0.05e-6\n",
    ")\n",
    "\n",
    "ins_oside = Material(\n",
    "    \"oside ins\",\n",
    "    boundaries=[bx_ins_oside, BX_ins_oside, mesh_ymin, mesh_ymax],\n",
    "    properties={\"rho_cv\": 26504 * 130, \"k\": 352},\n",
    "    mesh_size=0.2e-6\n",
    ")\n",
    "\n",
    "materials = [ins_pside, ir_pside, sample, ir_oside, ins_oside]\n",
    "\n",
    "gmsh_domain = Mesh(\n",
    "    name=\"demo\",\n",
    "    boundaries=[mesh_xmin, mesh_xmax, mesh_ymin, mesh_ymax],\n",
    "    materials=materials\n",
    ")"
   ]
  },
  {
   "cell_type": "code",
   "execution_count": 66,
   "id": "5f88714f",
   "metadata": {},
   "outputs": [
    {
     "name": "stdout",
     "output_type": "stream",
     "text": [
      "no mesh errors found\n",
      "Info    : Meshing 1D...\n",
      "Info    : [  0%] Meshing curve 1 (Line)\n",
      "Info    : [ 10%] Meshing curve 2 (Line)\n",
      "Info    : [ 20%] Meshing curve 3 (Line)\n",
      "Info    : [ 20%] Meshing curve 4 (Line)\n",
      "Info    : [ 30%] Meshing curve 5 (Line)\n",
      "Info    : [ 30%] Meshing curve 6 (Line)\n",
      "Info    : [ 40%] Meshing curve 7 (Line)\n",
      "Info    : [ 40%] Meshing curve 8 (Line)\n",
      "Info    : [ 50%] Meshing curve 9 (Line)\n",
      "Info    : [ 50%] Meshing curve 10 (Line)\n",
      "Info    : [ 60%] Meshing curve 11 (Line)\n",
      "Info    : [ 60%] Meshing curve 12 (Line)\n",
      "Info    : [ 70%] Meshing curve 13 (Line)\n",
      "Info    : [ 70%] Meshing curve 14 (Line)\n",
      "Info    : [ 80%] Meshing curve 15 (Line)\n",
      "Info    : [ 80%] Meshing curve 16 (Line)\n",
      "Info    : [ 90%] Meshing curve 17 (Line)\n",
      "Info    : [ 90%] Meshing curve 18 (Line)\n",
      "Info    : [100%] Meshing curve 19 (Line)\n",
      "Info    : [100%] Meshing curve 20 (Line)\n",
      "Info    : Done meshing 1D (Wall 0.0072999s, CPU 0.008908s)\n",
      "Info    : Meshing 2D...\n",
      "Info    : [  0%] Meshing surface 1 (Plane, Frontal-Delaunay)\n",
      "Info    : [ 30%] Meshing surface 2 (Plane, Frontal-Delaunay)\n",
      "Info    : [ 50%] Meshing surface 3 (Plane, Frontal-Delaunay)\n",
      "Info    : [ 70%] Meshing surface 4 (Plane, Frontal-Delaunay)\n",
      "Info    : [ 90%] Meshing surface 5 (Plane, Frontal-Delaunay)\n",
      "Info    : Done meshing 2D (Wall 2.66163s, CPU 2.70385s)\n",
      "Info    : 83385 nodes 166780 elements\n"
     ]
    }
   ],
   "source": [
    "gmsh_domain.build_mesh()"
   ]
  },
  {
   "cell_type": "code",
   "execution_count": 67,
   "id": "ddb78d40",
   "metadata": {},
   "outputs": [
    {
     "name": "stdout",
     "output_type": "stream",
     "text": [
      "Info    : Writing 'demo.msh'...\n",
      "Info    : Done writing 'demo.msh'\n",
      "Info    : Reading 'demo.msh'...\n",
      "Info    : 45 entities\n",
      "Info    : 83385 nodes\n",
      "Info    : 159812 elements\n",
      "Info    : Done reading 'demo.msh'                                                                                \n",
      "-------------------------------------------------------\n",
      "Version       : 4.13.1\n",
      "License       : GNU General Public License\n",
      "Build OS      : Linux64-sdk\n",
      "Build date    : 20240524\n",
      "Build host    : gmsh.info\n",
      "Build options : 64Bit ALGLIB[contrib] ANN[contrib] Bamg Blas[petsc] Blossom Cgns DIntegration Dlopen DomHex Eigen[contrib] Fltk Gmm[contrib] Hxt Jpeg Kbipack Lapack[petsc] LinuxJoystick MathEx[contrib] Med Mesh Metis[contrib] Mmg Mpeg Netgen Nii2mesh ONELAB ONELABMetamodel OpenCASCADE OpenCASCADE-CAF OpenGL OpenMP OptHom PETSc Parser Plugins Png Post QuadMeshingTools QuadTri Solver TetGen/BR TinyXML2[contrib] Untangle Voro++[contrib] WinslowUntangler Zlib\n",
      "FLTK version  : 1.4.0\n",
      "PETSc version : 3.14.4 (real arithmtic)\n",
      "OCC version   : 7.7.2\n",
      "MED version   : 4.1.0\n",
      "Packaged by   : geuzaine\n",
      "Web site      : https://gmsh.info\n",
      "Issue tracker : https://gitlab.onelab.info/gmsh/gmsh/issues\n",
      "-------------------------------------------------------\n"
     ]
    }
   ],
   "source": [
    "gmsh_domain.write('demo.msh')\n",
    "gmsh.open('demo.msh')\n",
    "gmsh.fltk.initialize()\n",
    "gmsh.fltk.run()\n"
   ]
  },
  {
   "cell_type": "code",
   "execution_count": 68,
   "id": "80a73064",
   "metadata": {},
   "outputs": [
    {
     "name": "stderr",
     "output_type": "stream",
     "text": [
      "Warning : Gmsh has aleady been initialized\n"
     ]
    },
    {
     "name": "stdout",
     "output_type": "stream",
     "text": [
      "Info    : Reading 'demo.msh'...\n",
      "Info    : 45 entities\n",
      "Info    : 83385 nodes\n",
      "Info    : 159812 elements\n",
      "Info    : Done reading 'demo.msh'                                                                                \n"
     ]
    }
   ],
   "source": [
    "\n",
    "dolfinx_domain = Mesh.msh_to_dolfinx('demo.msh')"
   ]
  },
  {
   "cell_type": "code",
   "execution_count": 69,
   "id": "edc68f11",
   "metadata": {},
   "outputs": [],
   "source": [
    "# define spaces, interpolate materials\n",
    "\n",
    "spaces = Space(dolfinx_domain, V_family='Lagrange', V_degree = 1, Q_family='DG', Q_degree = 0)\n",
    "rho_cv_fxn = spaces.assign_material_property(materials, 'rho_cv')\n",
    "k_fxn = spaces.assign_material_property(materials, 'k')"
   ]
  },
  {
   "cell_type": "code",
   "execution_count": 70,
   "id": "6c9c5391",
   "metadata": {},
   "outputs": [],
   "source": [
    "# define initial conditions\n",
    "\n",
    "ic_fxn = spaces.initial_condition(ic_temp)\n",
    "u_n = fem.Function(spaces.V)\n",
    "u_n.x.array[:] = ic_fxn.x.array\n",
    "u_n.x.scatter_forward()"
   ]
  },
  {
   "cell_type": "code",
   "execution_count": 71,
   "id": "4c69450b",
   "metadata": {},
   "outputs": [
    {
     "data": {
      "image/png": "[encoded data removed]",
      "text/plain": [
       "<Figure size 640x480 with 1 Axes>"
      ]
     },
     "metadata": {},
     "output_type": "display_data"
    }
   ],
   "source": [
    "# define boundary conditions\n",
    "\n",
    "# interpolate bc spline\n",
    "from scipy.interpolate import make_interp_spline\n",
    "pside_heating_spline_interp = make_interp_spline(df_pside['time'], df_pside['temperature'], k=3)\n",
    "\n",
    "offset = df_pside['temperature'].iloc[0] - 300\n",
    "def heating_offset(t):\n",
    "    return float(pside_heating_spline_interp(t)) - offset\n",
    "\n",
    "\n",
    "# check that spline is reasonable\n",
    "import matplotlib.pyplot as plt\n",
    "fig, ax = plt.subplots()\n",
    "\n",
    "ax.scatter(df_pside['time'], df_pside['temperature']-offset, color = 'black', zorder = 1)\n",
    "\n",
    "synthetic_x = np.linspace(min(df_pside['time']), max(df_pside['time']), 200)\n",
    "ax.plot(synthetic_x, [heating_offset(x) for x in synthetic_x], zorder = 2)\n",
    "plt.show()"
   ]
  },
  {
   "cell_type": "code",
   "execution_count": 87,
   "id": "b3c9d702",
   "metadata": {},
   "outputs": [],
   "source": [
    "# define boundary conditions\n",
    "\n",
    "outer_bc = RowDirichletBC(spaces.V, 'outer', value = 300.0) # defines a BC for a specific ``row`` (or column) of dofs\n",
    "\n",
    "# inner spatially and time variable BC\n",
    "\n",
    "# gaussian width coeff\n",
    "coeff = -4.0 * np.log(2.0) / heating_FWHM**2\n",
    "\n",
    "# Center of your heating patch along the y‐axis (adjust if needed)\n",
    "y_center = 0.0  \n",
    "\n",
    "def gaussian(x, y, t):\n",
    "    \"\"\"\n",
    "    Gaussian in y (peaks at y_center, width heating_FWHM),\n",
    "    amplitude given by pside_heating_spline_interp(t).\n",
    "    \"\"\"\n",
    "    amp = heating_offset(t)\n",
    "    return (amp - ic_temp) * np.exp(coeff * (y - y_center)**2) + ic_temp\n",
    "    \n",
    "inner_bc = RowDirichletBC(\n",
    "    spaces.V,\n",
    "    'x',\n",
    "    coord=bx_ir_pside,\n",
    "    length=5e-6,\n",
    "    value=gaussian\n",
    ")\n",
    "\n",
    "bcs = [outer_bc.bc, inner_bc.bc]"
   ]
  },
  {
   "cell_type": "code",
   "execution_count": 88,
   "id": "0a62e8c8",
   "metadata": {},
   "outputs": [],
   "source": [
    "from dolfinx.fem.petsc import assemble_matrix\n",
    "\n",
    "# init forms\n",
    "\n",
    "a_form, L_form = spaces.build_variational_forms(rho_cv_fxn, k_fxn, u_n, dt)\n",
    "\n",
    "# init system matrix\n",
    "A = assemble_matrix(spaces.a_form, bcs=bcs)\n",
    "A.assemble()\n",
    "\n",
    "# init RHS vector\n",
    "b = fem.petsc.create_vector(L_form)\n",
    "\n",
    "# init solver\n",
    "\n",
    "# Create a KSP (Krylov Subspace) solver on the same MPI communicator as A\n",
    "solver = PETSc.KSP().create(A.getComm())\n",
    "# Set the operator (matrix) for the solver\n",
    "solver.setOperators(A)\n",
    "# Use the PREONLY solver type (no Krylov iterations, direct solve)\n",
    "solver.setType(PETSc.KSP.Type.PREONLY)\n",
    "# Use LU factorization as the preconditioner (exact solve)\n",
    "solver.getPC().setType(PETSc.PC.Type.LU)"
   ]
  },
  {
   "cell_type": "code",
   "execution_count": 89,
   "id": "f7095eb8",
   "metadata": {},
   "outputs": [],
   "source": [
    "# define outputs folder\n",
    "\n",
    "import os\n",
    "outputs_folder = os.path.join(os.getcwd(), 'sim_outputs')\n",
    "\n",
    "# init io\n",
    "from io_utilities.xdmf_utils import *\n",
    "\n",
    "save_folder = os.path.join(outputs_folder, 'test_run_1')\n",
    "os.makedirs(save_folder, exist_ok=True)\n",
    "\n",
    "xdmf = init_xdmf(spaces.mesh, save_folder, 'solution')\n",
    "uh = fem.Function(spaces.V)\n",
    "uh.name = 'Temperature (K)'\n",
    "uh.interpolate(ic_fxn)\n",
    "xdmf.write_function(uh, 0.0)"
   ]
  },
  {
   "cell_type": "code",
   "execution_count": 90,
   "id": "c6e85ed0",
   "metadata": {},
   "outputs": [
    {
     "name": "stdout",
     "output_type": "stream",
     "text": [
      "Simulation progress: 10% (step 20/200)\n",
      "Simulation progress: 20% (step 40/200)\n",
      "Simulation progress: 30% (step 60/200)\n",
      "Simulation progress: 40% (step 80/200)\n",
      "Simulation progress: 50% (step 100/200)\n",
      "Simulation progress: 60% (step 120/200)\n",
      "Simulation progress: 70% (step 140/200)\n",
      "Simulation progress: 80% (step 160/200)\n",
      "Simulation progress: 90% (step 180/200)\n",
      "Simulation progress: 100% (step 200/200)\n"
     ]
    }
   ],
   "source": [
    "# timestepping loop\n",
    "\n",
    "# update the init bcs\n",
    "outer_bc.update(0.0)\n",
    "inner_bc.update(0.0)\n",
    "\n",
    "progress_interval = max(1, num_steps // 10)\n",
    "for step in range(num_steps):\n",
    "    t = (step+1)*dt\n",
    "    inner_bc.update(t)\n",
    "\n",
    "    # reset and assemble rhs vector\n",
    "    with b.localForm() as local_b:\n",
    "        local_b.set(0)\n",
    "    fem.petsc.assemble_vector(b, L_form)\n",
    "\n",
    "    # Apply lifting and BCs to RHS\n",
    "    fem.petsc.apply_lifting(b, [a_form], [bcs])\n",
    "    b.ghostUpdate(addv=PETSc.InsertMode.ADD_VALUES, mode=PETSc.ScatterMode.REVERSE)\n",
    "    fem.petsc.set_bc(b, bcs)\n",
    "\n",
    "    # Solve linear system\n",
    "    solver.solve(b, uh.x.petsc_vec)\n",
    "    uh.x.scatter_forward()\n",
    "\n",
    "    # Update previous solution\n",
    "    u_n.x.array[:] = uh.x.array\n",
    "\n",
    "    # Write solution at current time\n",
    "    xdmf.write_function(uh, t)\n",
    "\n",
    "    # Print progress every 10%\n",
    "    if (step + 1) % progress_interval == 0 or (step + 1) == num_steps:\n",
    "        percent = int((step + 1) / num_steps * 100)\n",
    "        print(f\"Simulation progress: {percent}% (step {step + 1}/{num_steps})\")\n",
    "\n",
    "xdmf.close()"
   ]
  },
  {
   "cell_type": "code",
   "execution_count": 95,
   "id": "f0d522b2",
   "metadata": {},
   "outputs": [
    {
     "data": {
      "text/plain": [
       "-2.4700000000000005e-06"
      ]
     },
     "execution_count": 95,
     "metadata": {},
     "output_type": "execute_result"
    }
   ],
   "source": [
    "BX_ir_pside"
   ]
  },
  {
   "cell_type": "code",
   "execution_count": 92,
   "id": "4ff19dfe",
   "metadata": {},
   "outputs": [],
   "source": [
    "from io_utilities.xdmf_extract import *\n",
    "\n",
    "time, data = extract_point_timeseries_xdmf('sim_outputs/test_run_1/solution.xdmf', function_name='Temperature (K)', query_points=[(bx_sample, 0), (BX_sample, 0)])\n",
    "sim_df = pd.DataFrame({'time': time,\n",
    "                       'pside': data[0],\n",
    "                       'oside': data[1]})\n",
    "\n",
    "sim_df['normed pside'] = (sim_df['pside'] - sim_df['pside'].iloc[0]) / (max(sim_df['pside']) - min(sim_df['pside']))\n",
    "sim_df['normed oside'] = (sim_df['oside'] - sim_df['oside'].iloc[0]) / (max(sim_df['pside']) - min(sim_df['pside']))"
   ]
  },
  {
   "cell_type": "code",
   "execution_count": 93,
   "id": "c7df30ac",
   "metadata": {},
   "outputs": [
    {
     "data": {
      "text/plain": [
       "<matplotlib.legend.Legend at 0x7912121147d0>"
      ]
     },
     "execution_count": 93,
     "metadata": {},
     "output_type": "execute_result"
    },
    {
     "data": {
      "image/png": "[encoded data removed]",
      "text/plain": [
       "<Figure size 640x480 with 1 Axes>"
      ]
     },
     "metadata": {},
     "output_type": "display_data"
    }
   ],
   "source": [
    "# absolute temp\n",
    "\n",
    "fig, ax = plt.subplots()\n",
    "\n",
    "ax.set_title('Normed Temperatures')\n",
    "ax.plot(df_pside['time'], df_pside['normed temperature'], label = 'Geballe pside')\n",
    "ax.plot(df_oside['time'], df_oside['normed temperature'], label = 'Geballe oside')\n",
    "\n",
    "ax.plot(sim_df['time'], sim_df['normed pside'], label = 'sim pside')\n",
    "ax.plot(sim_df['time'], sim_df['normed oside'], label = 'sim oside')\n",
    "\n",
    "ax.legend()\n"
   ]
  },
  {
   "cell_type": "code",
   "execution_count": null,
   "id": "9da70f7f",
   "metadata": {},
   "outputs": [],
   "source": []
  }
 ],
 "metadata": {
  "kernelspec": {
   "display_name": "fenicsx-env",
   "language": "python",
   "name": "python3"
  },
  "language_info": {
   "codemirror_mode": {
    "name": "ipython",
    "version": 3
   },
   "file_extension": ".py",
   "mimetype": "text/x-python",
   "name": "python",
   "nbconvert_exporter": "python",
   "pygments_lexer": "ipython3",
   "version": "3.11.12"
  }
 },
 "nbformat": 4,
 "nbformat_minor": 5
}
