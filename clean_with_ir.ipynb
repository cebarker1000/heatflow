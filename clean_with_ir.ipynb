{
 "cells": [
  {
   "cell_type": "markdown",
   "metadata": {},
   "source": [
    "# Clean With IR"
   ]
  },
  {
   "cell_type": "markdown",
   "metadata": {},
   "source": [
    "## 1. Make the mesh"
   ]
  },
  {
   "cell_type": "code",
   "execution_count": 1,
   "metadata": {},
   "outputs": [],
   "source": [
    "%load_ext autoreload\n",
    "%autoreload 2"
   ]
  },
  {
   "cell_type": "code",
   "execution_count": 2,
   "metadata": {},
   "outputs": [],
   "source": [
    "import gmsh\n",
    "from dolfinx import fem\n",
    "import pandas as pd\n",
    "import numpy as np\n",
    "\n",
    "from mesh_and_materials.mesh import *\n",
    "from mesh_and_materials.materials import *\n",
    "from space.space_and_forms import *\n",
    "from dirichlet_bc.bc import *"
   ]
  },
  {
   "cell_type": "code",
   "execution_count": 3,
   "metadata": {},
   "outputs": [],
   "source": [
    "\n",
    "# Sample geometry (all units in meters)\n",
    "\n",
    "d_ins_oside = 6.3e-6\n",
    "d_ins_pside = 3.2e-6\n",
    "d_sample    = 1.84e-6\n",
    "d_ir        = 0.062e-6\n",
    "\n",
    "# Mesh bounds\n",
    "x_length = d_ins_oside + d_ins_pside + d_sample + 2 * d_ir\n",
    "mesh_xmin, mesh_xmax = -(x_length/2), x_length/2\n",
    "mesh_ymin, mesh_ymax = -20e-6, 0.0\n"
   ]
  },
  {
   "cell_type": "code",
   "execution_count": 4,
   "metadata": {},
   "outputs": [],
   "source": [
    "\n",
    "# Material regions (from left to right)\n",
    "bx_ins_pside = mesh_xmin\n",
    "BX_ins_pside = mesh_xmin + d_ins_pside\n",
    "\n",
    "bx_ir_pside  = BX_ins_pside\n",
    "BX_ir_pside  = bx_ir_pside + d_ir\n",
    "\n",
    "bx_sample = BX_ir_pside\n",
    "BX_sample = bx_sample + d_sample\n",
    "\n",
    "bx_ir_oside = BX_sample\n",
    "BX_ir_oside = bx_ir_oside + d_ir\n",
    "\n",
    "bx_ins_oside = BX_ir_oside\n",
    "BX_ins_oside = bx_ins_oside + d_ins_oside\n",
    "\n",
    "ins_pside = Material(\n",
    "    \"pside ins\",\n",
    "    [bx_ins_pside, BX_ins_pside, mesh_ymin, mesh_ymax],\n",
    "    properties={\"rho_cv\": 4131 * 668, \"k\": 10},\n",
    "    mesh_size=0.1e-6\n",
    ")\n",
    "\n",
    "ir_pside = Material(\n",
    "    \"pside ir\",\n",
    "    boundaries=[bx_ir_pside, BX_ir_pside, mesh_ymin, mesh_ymax],\n",
    "    properties={\"rho_cv\": 26504 * 130, \"k\": 352},\n",
    "    mesh_size=0.02e-6\n",
    ")\n",
    "\n",
    "sample = Material(\n",
    "    \"sample\",\n",
    "    boundaries=[bx_sample, BX_sample, mesh_ymin, mesh_ymax],\n",
    "    properties={\"rho_cv\": 5164 * 1158, \"k\": 3.9},\n",
    "    mesh_size=0.08e-6\n",
    ")\n",
    "\n",
    "ir_oside = Material(\n",
    "    \"oside ir\",\n",
    "    boundaries=[bx_ir_oside, BX_ir_oside, mesh_ymin, mesh_ymax],\n",
    "    properties={\"rho_cv\": 26504 * 130, \"k\": 352},\n",
    "    mesh_size=0.02e-6\n",
    ")\n",
    "\n",
    "ins_oside = Material(\n",
    "    \"oside ins\",\n",
    "    boundaries=[bx_ins_oside, BX_ins_oside, mesh_ymin, mesh_ymax],\n",
    "    properties={\"rho_cv\": 4131 * 668, \"k\": 10},\n",
    "    mesh_size=0.1e-6\n",
    ")\n",
    "\n",
    "materials = [ins_pside, ir_pside, sample, ir_oside, ins_oside]\n",
    "\n",
    "gmsh_domain = Mesh(\n",
    "    name=\"clean\",\n",
    "    boundaries=[mesh_xmin, mesh_xmax, mesh_ymin, mesh_ymax],\n",
    "    materials=materials\n",
    ")\n"
   ]
  },
  {
   "cell_type": "code",
   "execution_count": 5,
   "metadata": {},
   "outputs": [
    {
     "name": "stdout",
     "output_type": "stream",
     "text": [
      "no mesh errors found\n",
      "Info    : Meshing 1D...\n",
      "Info    : [  0%] Meshing curve 1 (Line)\n",
      "Info    : [ 10%] Meshing curve 2 (Line)\n",
      "Info    : [ 20%] Meshing curve 3 (Line)\n",
      "Info    : [ 20%] Meshing curve 4 (Line)\n",
      "Info    : [ 30%] Meshing curve 5 (Line)\n",
      "Info    : [ 40%] Meshing curve 6 (Line)\n",
      "Info    : [ 40%] Meshing curve 7 (Line)\n",
      "Info    : [ 50%] Meshing curve 9 (Line)\n",
      "Info    : [ 60%] Meshing curve 10 (Line)\n",
      "Info    : [ 60%] Meshing curve 11 (Line)\n",
      "Info    : [ 70%] Meshing curve 13 (Line)\n",
      "Info    : [ 70%] Meshing curve 14 (Line)\n",
      "Info    : [ 80%] Meshing curve 15 (Line)\n",
      "Info    : [ 90%] Meshing curve 17 (Line)\n",
      "Info    : [ 90%] Meshing curve 18 (Line)\n",
      "Info    : [100%] Meshing curve 19 (Line)\n",
      "Info    : Done meshing 1D (Wall 0.00336085s, CPU 0.004253s)\n",
      "Info    : Meshing 2D...\n",
      "Info    : [  0%] Meshing surface 1 (Plane, Frontal-Delaunay)\n",
      "Info    : [ 30%] Meshing surface 2 (Plane, Frontal-Delaunay)\n",
      "Info    : [ 50%] Meshing surface 3 (Plane, Frontal-Delaunay)\n",
      "Info    : [ 70%] Meshing surface 4 (Plane, Frontal-Delaunay)\n",
      "Info    : [ 90%] Meshing surface 5 (Plane, Frontal-Delaunay)\n",
      "Info    : Done meshing 2D (Wall 8.73748s, CPU 8.57948s)\n",
      "Info    : 205776 nodes 415562 elements\n"
     ]
    }
   ],
   "source": [
    "gmsh_domain.build_mesh()"
   ]
  },
  {
   "cell_type": "code",
   "execution_count": 6,
   "metadata": {},
   "outputs": [
    {
     "name": "stdout",
     "output_type": "stream",
     "text": [
      "Info    : Writing 'clean_with_ir.msh'...\n",
      "Info    : Done writing 'clean_with_ir.msh'\n",
      "Info    : Reading 'clean_with_ir.msh'...\n",
      "Info    : 33 entities\n",
      "Info    : 205776 nodes\n",
      "Info    : 410885 elements                                                                                     \n",
      "Info    : Done reading 'clean_with_ir.msh'                                                                       \n",
      "-------------------------------------------------------\n",
      "Version       : 4.13.1\n",
      "License       : GNU General Public License\n",
      "Build OS      : Linux64-sdk\n",
      "Build date    : 20240524\n",
      "Build host    : gmsh.info\n",
      "Build options : 64Bit ALGLIB[contrib] ANN[contrib] Bamg Blas[petsc] Blossom Cgns DIntegration Dlopen DomHex Eigen[contrib] Fltk Gmm[contrib] Hxt Jpeg Kbipack Lapack[petsc] LinuxJoystick MathEx[contrib] Med Mesh Metis[contrib] Mmg Mpeg Netgen Nii2mesh ONELAB ONELABMetamodel OpenCASCADE OpenCASCADE-CAF OpenGL OpenMP OptHom PETSc Parser Plugins Png Post QuadMeshingTools QuadTri Solver TetGen/BR TinyXML2[contrib] Untangle Voro++[contrib] WinslowUntangler Zlib\n",
      "FLTK version  : 1.4.0\n",
      "PETSc version : 3.14.4 (real arithmtic)\n",
      "OCC version   : 7.7.2\n",
      "MED version   : 4.1.0\n",
      "Packaged by   : geuzaine\n",
      "Web site      : https://gmsh.info\n",
      "Issue tracker : https://gitlab.onelab.info/gmsh/gmsh/issues\n",
      "-------------------------------------------------------\n"
     ]
    }
   ],
   "source": [
    "gmsh_domain.write('clean_with_ir.msh')\n",
    "# Visualize in gmsh if desired\n",
    "gmsh.open('clean_with_ir.msh')\n",
    "gmsh.fltk.initialize()\n",
    "gmsh.fltk.run()"
   ]
  },
  {
   "cell_type": "markdown",
   "metadata": {},
   "source": [
    "## 2. Run the simulation"
   ]
  },
  {
   "cell_type": "code",
   "execution_count": 7,
   "id": "15ce13aa",
   "metadata": {},
   "outputs": [],
   "source": [
    "\n",
    "# Experimental heating curve\n",
    "\n",
    "df = pd.read_csv('experimental_data/geballe_2020_fig3_left_approx.csv')\n",
    "df = df.copy().iloc[1:].reset_index(drop=True)\n",
    "\n",
    "# split front/back columns and clean\n",
    "df_pside = df[['Front', 'Unnamed: 1']].copy()\n",
    "df_oside = df[['Back',  'Unnamed: 3']].copy()\n",
    "\n",
    "df_pside.columns = ['time', 'temperature']\n",
    "df_oside.columns = ['time', 'temperature']\n",
    "\n",
    "df_pside = (df_pside\n",
    "            .apply(pd.to_numeric)\n",
    "            .dropna()\n",
    "            .sort_values('time')\n",
    "            .reset_index(drop=True))\n",
    "\n",
    "df_oside = (df_oside\n",
    "            .apply(pd.to_numeric)\n",
    "            .dropna()\n",
    "            .sort_values('time')\n",
    "            .reset_index(drop=True))\n",
    "\n",
    "df_pside['time'] = df_pside['time'] * 10**-6\n",
    "df_oside['time'] = df_oside['time'] * 10**-6\n",
    "\n",
    "df_pside['normed temperature'] = (\n",
    "    df_pside['temperature'] - df_pside['temperature'].iloc[0]\n",
    ") / (df_pside['temperature'].max() - df_pside['temperature'].min())\n",
    "\n",
    "df_oside['normed temperature'] = (\n",
    "    df_oside['temperature'] - df_oside['temperature'].iloc[0]\n",
    ") / (df_pside['temperature'].max() - df_pside['temperature'].min())\n"
   ]
  },
  {
   "cell_type": "code",
   "execution_count": 8,
   "metadata": {},
   "outputs": [
    {
     "name": "stdout",
     "output_type": "stream",
     "text": [
      "Info    : Reading 'clean_with_ir.msh'...\n",
      "Info    : 33 entities\n",
      "Info    : 205776 nodes\n",
      "Info    : 410885 elements                                                                                     \n",
      "Info    : [ 10%] Reading elements                                                                                \r"
     ]
    },
    {
     "name": "stderr",
     "output_type": "stream",
     "text": [
      "Warning : Gmsh has aleady been initialized\n"
     ]
    },
    {
     "name": "stdout",
     "output_type": "stream",
     "text": [
      "Info    : Done reading 'clean_with_ir.msh'                                                                       \n"
     ]
    }
   ],
   "source": [
    "import os\n",
    "rebuild_mesh = False\n",
    "mesh_file = 'clean_with_ir.msh'\n",
    "if not os.path.exists(mesh_file) or rebuild_mesh:\n",
    "    gmsh_domain.build_mesh()\n",
    "    gmsh_domain.write(mesh_file)\n",
    "\n",
    "dolfinx_domain = Mesh.msh_to_dolfinx(mesh_file)\n"
   ]
  },
  {
   "cell_type": "code",
   "execution_count": 9,
   "metadata": {},
   "outputs": [],
   "source": [
    "\n",
    "spaces = Space(dolfinx_domain, V_family='Lagrange', V_degree=1, Q_family='DG', Q_degree=0)\n",
    "\n",
    "rho_cv_fxn = spaces.assign_material_property(materials, 'rho_cv')\n",
    "k_fxn = spaces.assign_material_property(materials, 'k')\n"
   ]
  },
  {
   "cell_type": "code",
   "execution_count": 10,
   "metadata": {},
   "outputs": [],
   "source": [
    "\n",
    "ic_temp = 300.0\n",
    "ic_fxn = spaces.initial_condition(ic_temp)\n",
    "u_n = fem.Function(spaces.V)\n",
    "u_n.x.array[:] = ic_fxn.x.array\n",
    "u_n.x.scatter_forward()\n"
   ]
  },
  {
   "cell_type": "code",
   "execution_count": 29,
   "id": "7c6b579a",
   "metadata": {},
   "outputs": [
    {
     "data": {
      "text/plain": [
       "np.float64(2163.049373)"
      ]
     },
     "execution_count": 29,
     "metadata": {},
     "output_type": "execute_result"
    }
   ],
   "source": [
    "df_pside['temperature'].iloc[0]"
   ]
  },
  {
   "cell_type": "code",
   "execution_count": 11,
   "metadata": {},
   "outputs": [],
   "source": [
    "\n",
    "from scipy.interpolate import make_interp_spline\n",
    "\n",
    "pside_heating_spline_interp = make_interp_spline(df_pside['time'], df_pside['temperature'], k=3)\n",
    "offset = df_pside['temperature'].iloc[0] - 300\n",
    "\n",
    "def heating_offset(t):\n",
    "    return float(pside_heating_spline_interp(t)) - offset\n",
    "\n",
    "# Gaussian profile for inner boundary\n",
    "heating_FWHM = 13.2e-6\n",
    "coeff = -4.0 * np.log(2.0) / heating_FWHM**2\n",
    "y_center = 0.0\n",
    "\n",
    "def gaussian(x, y, t):\n",
    "    amp = heating_offset(t)\n",
    "    return (amp - ic_temp) * np.exp(coeff * (y - y_center)**2)*0.5 + ic_temp\n",
    "\n",
    "bcs = []\n",
    "left_bc = RowDirichletBC(spaces.V, 'left', value=ic_temp)\n",
    "right_bc = RowDirichletBC(spaces.V, 'right', value=ic_temp)\n",
    "bottom_bc = RowDirichletBC(spaces.V, 'bottom', value=ic_temp)\n",
    "inner_bc = RowDirichletBC(\n",
    "    spaces.V,\n",
    "    'x',\n",
    "    coord=bx_ir_pside,\n",
    "    length=heating_FWHM * 2,\n",
    "    center=0.0,\n",
    "    value=gaussian,\n",
    ")\n",
    "\n",
    "obj_bcs = [left_bc, right_bc, bottom_bc, inner_bc]\n",
    "bcs = [bc.bc for bc in obj_bcs]\n"
   ]
  },
  {
   "cell_type": "code",
   "execution_count": 12,
   "metadata": {},
   "outputs": [
    {
     "name": "stdout",
     "output_type": "stream",
     "text": [
      "Row BC #0: x in [-5.732e-06, -5.732e-06]  y in [-2.000e-05, 1.583e-24]  (n = 201 DOFs)\n",
      "Row BC #1: x in [5.732e-06, 5.732e-06]  y in [-2.000e-05, -9.525e-24]  (n = 201 DOFs)\n",
      "Row BC #2: x in [-5.732e-06, 5.732e-06]  y in [-2.000e-05, -2.000e-05]  (n = 135 DOFs)\n",
      "Row BC #3: x in [-2.532e-06, -2.532e-06]  y in [-1.320e-05, 2.642e-25]  (n = 661 DOFs)\n"
     ]
    }
   ],
   "source": [
    "RowDirichletBC.describe_row_bcs(obj_bcs)"
   ]
  },
  {
   "cell_type": "code",
   "execution_count": 13,
   "metadata": {},
   "outputs": [],
   "source": [
    "\n",
    "from dolfinx.fem.petsc import assemble_matrix\n",
    "\n",
    "time_stop = 7.0e-6\n",
    "num_steps = 200\n",
    "dt = time_stop/num_steps\n",
    "\n",
    "a_form, L_form = spaces.build_variational_forms(rho_cv_fxn, k_fxn, u_n, dt)\n",
    "A = assemble_matrix(spaces.a_form, bcs=bcs)\n",
    "A.assemble()\n",
    "\n",
    "b = fem.petsc.create_vector(L_form)\n",
    "\n",
    "solver = PETSc.KSP().create(A.getComm())\n",
    "solver.setOperators(A)\n",
    "solver.setType(PETSc.KSP.Type.PREONLY)\n",
    "solver.getPC().setType(PETSc.PC.Type.LU)\n"
   ]
  },
  {
   "cell_type": "code",
   "execution_count": 14,
   "metadata": {},
   "outputs": [],
   "source": [
    "from io_utilities.xdmf_utils import *\n",
    "\n",
    "outputs_folder = os.path.join(os.getcwd(), 'sim_outputs')\n",
    "save_folder = os.path.join(outputs_folder, 'clean_with_ir')\n",
    "os.makedirs(save_folder, exist_ok=True)\n",
    "\n",
    "xdmf = init_xdmf(spaces.mesh, save_folder, 'solution')\n",
    "uh = fem.Function(spaces.V)\n",
    "uh.name = 'Temperature (K)'\n",
    "uh.interpolate(ic_fxn)\n",
    "xdmf.write_function(uh, 0.0)\n"
   ]
  },
  {
   "cell_type": "code",
   "execution_count": 15,
   "metadata": {},
   "outputs": [
    {
     "name": "stdout",
     "output_type": "stream",
     "text": [
      "Simulation progress: 10% (step 20/200)\n",
      "Simulation progress: 20% (step 40/200)\n",
      "Simulation progress: 30% (step 60/200)\n",
      "Simulation progress: 40% (step 80/200)\n",
      "Simulation progress: 50% (step 100/200)\n",
      "Simulation progress: 60% (step 120/200)\n",
      "Simulation progress: 70% (step 140/200)\n",
      "Simulation progress: 80% (step 160/200)\n",
      "Simulation progress: 90% (step 180/200)\n",
      "Simulation progress: 100% (step 200/200)\n"
     ]
    }
   ],
   "source": [
    "\n",
    "for x in obj_bcs:\n",
    "    x.update(0.0)\n",
    "\n",
    "progress_interval = max(1, num_steps // 10)\n",
    "for step in range(num_steps):\n",
    "    t = (step+1)*dt\n",
    "    inner_bc.update(t)\n",
    "\n",
    "    with b.localForm() as local_b:\n",
    "        local_b.set(0)\n",
    "    fem.petsc.assemble_vector(b, L_form)\n",
    "    fem.petsc.apply_lifting(b, [a_form], [bcs])\n",
    "    b.ghostUpdate(addv=PETSc.InsertMode.ADD_VALUES, mode=PETSc.ScatterMode.REVERSE)\n",
    "    fem.petsc.set_bc(b, bcs)\n",
    "\n",
    "    solver.solve(b, uh.x.petsc_vec)\n",
    "    uh.x.scatter_forward()\n",
    "\n",
    "    u_n.x.array[:] = uh.x.array\n",
    "\n",
    "    xdmf.write_function(uh, t)\n",
    "\n",
    "    if (step + 1) % progress_interval == 0 or (step + 1) == num_steps:\n",
    "        percent = int((step + 1) / num_steps * 100)\n",
    "        print(f\"Simulation progress: {percent}% (step {step + 1}/{num_steps})\")\n",
    "\n",
    "xdmf.close()\n"
   ]
  },
  {
   "cell_type": "code",
   "execution_count": 26,
   "metadata": {},
   "outputs": [
    {
     "data": {
      "image/png": "[encoded data removed]",
      "text/plain": [
       "<Figure size 640x480 with 1 Axes>"
      ]
     },
     "metadata": {},
     "output_type": "display_data"
    }
   ],
   "source": [
    "from io_utilities.xdmf_extract import *\n",
    "\n",
    "time, data = extract_point_timeseries_xdmf(\n",
    "    os.path.join(save_folder, 'solution.xdmf'),\n",
    "    function_name='Temperature (K)',\n",
    "    query_points=[(bx_ir_pside, 0), (BX_ir_oside, 0)]\n",
    ")\n",
    "\n",
    "sim_df = pd.DataFrame({'time': time,\n",
    "                       'pside': data[0],\n",
    "                       'oside': data[1]})\n",
    "\n",
    "sim_df['normed pside'] = (sim_df['pside'] - sim_df['pside'].iloc[0]) / (sim_df['pside'].max() - sim_df['pside'].min())\n",
    "sim_df['normed oside'] = (sim_df['oside'] - sim_df['oside'].iloc[0]) / (sim_df['pside'].max() - sim_df['pside'].min())\n",
    "\n",
    "import matplotlib.pyplot as plt\n",
    "fig, ax = plt.subplots()\n",
    "ax.set_title('Normed Temperatures with No Diamond\\nsim oside shifted')\n",
    "ax.plot(df_pside['time'], df_pside['normed temperature'], label='Geballe pside')\n",
    "ax.plot(df_oside['time'], df_oside['normed temperature'], label='Geballe oside')\n",
    "ax.plot(sim_df['time'], sim_df['normed pside'], label='sim pside')\n",
    "ax.plot(sim_df['time'], sim_df['normed oside'] - (max(sim_df['normed oside']) - max(df_oside['normed temperature'])), label='sim oside')\n",
    "ax.grid(True, ls = '--', color = 'lightgray')\n",
    "\n",
    "ax.legend()\n",
    "plt.show()\n"
   ]
  },
  {
   "cell_type": "code",
   "execution_count": null,
   "id": "e3c66d1c",
   "metadata": {},
   "outputs": [
    {
     "data": {
      "text/plain": [
       "0.04584671107354557"
      ]
     },
     "execution_count": 20,
     "metadata": {},
     "output_type": "execute_result"
    }
   ],
   "source": [
    "max(sim_df['normed oside'] - max(df_oside['normed temperature']))"
   ]
  },
  {
   "cell_type": "code",
   "execution_count": 28,
   "id": "4ce1b07b",
   "metadata": {},
   "outputs": [
    {
     "data": {
      "text/plain": [
       "np.float64(287.88913300000013)"
      ]
     },
     "execution_count": 28,
     "metadata": {},
     "output_type": "execute_result"
    }
   ],
   "source": [
    "df_oside['temperature'].iloc[0] - df_pside['temperature'].iloc[0]"
   ]
  },
  {
   "cell_type": "code",
   "execution_count": 18,
   "metadata": {},
   "outputs": [
    {
     "data": {
      "image/png": "[encoded data removed]",
      "text/plain": [
       "<Figure size 640x480 with 1 Axes>"
      ]
     },
     "metadata": {},
     "output_type": "display_data"
    }
   ],
   "source": [
    "\n",
    "query_points = []\n",
    "xmin = bx_ir_pside - 2e-6\n",
    "xmax = BX_ir_oside + 2e-6\n",
    "samples = 200\n",
    "\n",
    "for x in np.linspace(xmin, xmax, samples):\n",
    "    query_points.append((x, 0.0))\n",
    "\n",
    "time, data = extract_point_timeseries_xdmf(\n",
    "    os.path.join(save_folder, 'solution.xdmf'),\n",
    "    function_name='Temperature (K)',\n",
    "    query_points=query_points\n",
    ")\n",
    "locations = np.arange(data.shape[0])\n",
    "\n",
    "sim_df = pd.DataFrame(data, index=locations.astype(int), columns=time)\n",
    "\n",
    "fig, ax = plt.subplots()\n",
    "\n",
    "t0 = 40\n",
    "location_series = (locations/samples) * (xmax - xmin) + xmin\n",
    "ymin = 300\n",
    "ymax = 800\n",
    "\n",
    "ax.plot(location_series, sim_df.iloc[:, t0], zorder = 3, color = 'black')\n",
    "ax.vlines([BX_sample, bx_sample, bx_ir_pside, BX_ir_oside], ymin=ymin, ymax=ymax, ls='--', label='Ir Boundaries', color='indianred', zorder=2, lw=0.9)\n",
    "ax.set_xlim(xmin, xmax)\n",
    "ax.set_ylim(ymin, ymax)\n",
    "ax.set_xlabel('Position')\n",
    "ax.set_ylabel('Temperature')\n",
    "ax.set_title(f'Position vs time along the y=0 line at t={t0*dt*1e6:.2f}us')\n",
    "ax.legend()\n",
    "plt.show()\n"
   ]
  },
  {
   "cell_type": "code",
   "execution_count": null,
   "metadata": {},
   "outputs": [],
   "source": []
  }
 ],
 "metadata": {
  "kernelspec": {
   "display_name": "fenicsx-env",
   "language": "python",
   "name": "python3"
  },
  "language_info": {
   "codemirror_mode": {
    "name": "ipython",
    "version": 3
   },
   "file_extension": ".py",
   "mimetype": "text/x-python",
   "name": "python",
   "nbconvert_exporter": "python",
   "pygments_lexer": "ipython3",
   "version": "3.11.11"
  }
 },
 "nbformat": 4,
 "nbformat_minor": 5
}
