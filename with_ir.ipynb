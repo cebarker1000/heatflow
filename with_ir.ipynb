{
 "cells": [
  {
   "cell_type": "code",
   "execution_count": 153,
   "id": "a60ad9c3",
   "metadata": {},
   "outputs": [
    {
     "name": "stdout",
     "output_type": "stream",
     "text": [
      "The autoreload extension is already loaded. To reload it, use:\n",
      "  %reload_ext autoreload\n"
     ]
    }
   ],
   "source": [
    "%load_ext autoreload\n",
    "%autoreload 2"
   ]
  },
  {
   "cell_type": "code",
   "execution_count": 154,
   "id": "432787f9",
   "metadata": {},
   "outputs": [],
   "source": [
    "import gmsh\n",
    "from dolfinx import fem\n",
    "import pandas as pd\n",
    "import numpy as np\n",
    "\n",
    "from mesh_and_materials.mesh import *\n",
    "from mesh_and_materials.materials import *\n",
    "from space.space_and_forms import *\n",
    "from dirichlet_bc.bc import *"
   ]
  },
  {
   "cell_type": "code",
   "execution_count": 155,
   "id": "8e10b9e1",
   "metadata": {},
   "outputs": [],
   "source": [
    "# load experimental data\n",
    "\n",
    "df = pd.read_csv(\"experimental_data/geballe_2020_fig3_left_approx.csv\")\n",
    "\n",
    "df = df.copy()\n",
    "df = df.iloc[1:].reset_index(drop=True)\n",
    "\n",
    "df_pside = df[['Front', 'Unnamed: 1']].copy()\n",
    "df_oside = df[['Back',  'Unnamed: 3']].copy()\n",
    "\n",
    "df_pside.columns = ['time', 'temperature']\n",
    "df_oside.columns = ['time', 'temperature']\n",
    "\n",
    "df_pside = (df_pside\n",
    "            .apply(pd.to_numeric)\n",
    "            .dropna()\n",
    "            .sort_values('time')\n",
    "            .reset_index(drop=True))\n",
    "\n",
    "df_oside = (df_oside\n",
    "            .apply(pd.to_numeric)\n",
    "            .dropna()\n",
    "            .sort_values('time')\n",
    "            .reset_index(drop=True))\n",
    "\n",
    "df_pside['time'] = df_pside['time']* 10 **-6\n",
    "df_oside['time'] = df_oside['time']* 10 **-6\n",
    "\n",
    "df_pside['normed temperature'] = (df_pside['temperature'] - df_pside['temperature'].iloc[0]) / (max(df_pside['temperature']) - min(df_pside['temperature']))\n",
    "df_oside['normed temperature'] = (df_oside['temperature'] - df_oside['temperature'].iloc[0]) / (max(df_pside['temperature']) - min(df_pside['temperature']))\n"
   ]
  },
  {
   "cell_type": "code",
   "execution_count": 156,
   "id": "cb0dc14a",
   "metadata": {},
   "outputs": [],
   "source": [
    "# define sample geometries\n",
    "\n",
    "d_ins_oside = 6.3e-6\n",
    "d_ins_pside = 3.2e-6\n",
    "d_sample = 1.84e-6\n",
    "d_ir = 0.062e-6\n",
    "\n",
    "# derive / set mesh boundaries\n",
    "x_length = d_ins_oside + d_ins_pside + d_sample + 2*d_ir\n",
    "mesh_xmin, mesh_xmax = -(x_length/2), x_length/2\n",
    "\n",
    "mesh_ymin, mesh_ymax = -20e-6, 0\n",
    "\n",
    "# heat params\n",
    "\n",
    "heating_FWHM = 13.2e-6\n",
    "ic_temp = 300.0"
   ]
  },
  {
   "cell_type": "code",
   "execution_count": 157,
   "id": "790fd16e",
   "metadata": {},
   "outputs": [],
   "source": [
    "# define materials, working left to right\n",
    "\n",
    "bx_ins_pside = mesh_xmin\n",
    "BX_ins_pside = mesh_xmin + d_ins_pside\n",
    "\n",
    "bx_ir_pside = BX_ins_pside\n",
    "BX_ir_pside = bx_ir_pside+d_ir\n",
    "\n",
    "bx_sample = BX_ir_pside\n",
    "BX_sample = bx_sample+d_sample\n",
    "\n",
    "bx_ir_oside = BX_sample\n",
    "BX_ir_oside = bx_ir_oside + d_ir\n",
    "\n",
    "bx_ins_oside = BX_ir_oside\n",
    "BX_ins_oside = bx_ins_oside + d_ins_oside\n",
    "\n",
    "ins_pside = Material(\n",
    "    \"pside ins\",\n",
    "    [bx_ins_pside, BX_ins_pside, mesh_ymin, mesh_ymax],\n",
    "    properties={\"rho_cv\": 4131 * 668, \"k\": 10},\n",
    "    mesh_size=0.1e-6\n",
    ")\n",
    "\n",
    "ir_pside = Material(\n",
    "    \"pside ir\",\n",
    "    boundaries=[bx_ir_pside, BX_ir_pside, mesh_ymin, mesh_ymax],\n",
    "    properties={\"rho_cv\": 26504 * 130, \"k\": 352},\n",
    "    mesh_size=0.02e-6\n",
    ")\n",
    "\n",
    "sample = Material(\n",
    "    \"sample\",\n",
    "    boundaries=[bx_sample, BX_sample, mesh_ymin, mesh_ymax],\n",
    "    properties={\"rho_cv\": 5164 * 1158, \"k\": 3.9},\n",
    "    mesh_size=0.08e-6\n",
    ")\n",
    "\n",
    "ir_oside = Material(\n",
    "    \"oside ir\",\n",
    "    boundaries=[bx_ir_oside, BX_ir_oside, mesh_ymin, mesh_ymax],\n",
    "    properties={\"rho_cv\": 26504 * 130, \"k\": 352},\n",
    "    mesh_size=0.02e-6\n",
    ")\n",
    "\n",
    "ins_oside = Material(\n",
    "    \"oside ins\",\n",
    "    boundaries=[bx_ins_oside, BX_ins_oside, mesh_ymin, mesh_ymax],\n",
    "    properties={\"rho_cv\": 4131 * 668, \"k\": 10},\n",
    "    mesh_size=0.1e-6\n",
    ")\n",
    "\n",
    "materials = [ins_pside, ir_pside, sample, ir_oside, ins_oside]\n",
    "\n",
    "gmsh_domain = Mesh(\n",
    "    name=\"demo\",\n",
    "    boundaries=[mesh_xmin, mesh_xmax, mesh_ymin, mesh_ymax],\n",
    "    materials=materials\n",
    ")"
   ]
  },
  {
   "cell_type": "code",
   "execution_count": 158,
   "id": "5f88714f",
   "metadata": {},
   "outputs": [
    {
     "name": "stdout",
     "output_type": "stream",
     "text": [
      "no mesh errors found\n",
      "Info    : Meshing 1D...\n",
      "Info    : [  0%] Meshing curve 1 (Line)\n",
      "Info    : [ 10%] Meshing curve 2 (Line)\n",
      "Info    : [ 20%] Meshing curve 3 (Line)\n",
      "Info    : [ 20%] Meshing curve 4 (Line)\n",
      "Info    : [ 30%] Meshing curve 5 (Line)\n",
      "Info    : [ 40%] Meshing curve 6 (Line)\n",
      "Info    : [ 40%] Meshing curve 7 (Line)\n",
      "Info    : [ 50%] Meshing curve 9 (Line)\n",
      "Info    : [ 60%] Meshing curve 10 (Line)\n",
      "Info    : [ 60%] Meshing curve 11 (Line)\n",
      "Info    : [ 70%] Meshing curve 13 (Line)\n",
      "Info    : [ 70%] Meshing curve 14 (Line)\n",
      "Info    : [ 80%] Meshing curve 15 (Line)\n",
      "Info    : [ 90%] Meshing curve 17 (Line)\n",
      "Info    : [ 90%] Meshing curve 18 (Line)\n",
      "Info    : [100%] Meshing curve 19 (Line)\n",
      "Info    : Done meshing 1D (Wall 0.00662143s, CPU 0.007684s)\n",
      "Info    : Meshing 2D...\n",
      "Info    : [  0%] Meshing surface 1 (Plane, Frontal-Delaunay)\n",
      "Info    : [ 30%] Meshing surface 2 (Plane, Frontal-Delaunay)\n",
      "Info    : [ 50%] Meshing surface 3 (Plane, Frontal-Delaunay)\n",
      "Info    : [ 70%] Meshing surface 4 (Plane, Frontal-Delaunay)\n",
      "Info    : [ 90%] Meshing surface 5 (Plane, Frontal-Delaunay)\n",
      "Info    : Done meshing 2D (Wall 8.53961s, CPU 8.6606s)\n",
      "Info    : 205776 nodes 415562 elements\n"
     ]
    }
   ],
   "source": [
    "gmsh_domain.build_mesh()"
   ]
  },
  {
   "cell_type": "code",
   "execution_count": 159,
   "id": "ddb78d40",
   "metadata": {},
   "outputs": [
    {
     "name": "stdout",
     "output_type": "stream",
     "text": [
      "Info    : Writing 'with_ir.msh'...\n",
      "Info    : Done writing 'with_ir.msh'\n",
      "Info    : Reading 'with_ir.msh'...\n",
      "Info    : 33 entities\n",
      "Info    : 205776 nodes\n",
      "Info    : 410885 elements                                                                                     \n",
      "Info    : Done reading 'with_ir.msh'                                                                             \n",
      "-------------------------------------------------------\n",
      "Version       : 4.13.1\n",
      "License       : GNU General Public License\n",
      "Build OS      : Linux64-sdk\n",
      "Build date    : 20240524\n",
      "Build host    : gmsh.info\n",
      "Build options : 64Bit ALGLIB[contrib] ANN[contrib] Bamg Blas[petsc] Blossom Cgns DIntegration Dlopen DomHex Eigen[contrib] Fltk Gmm[contrib] Hxt Jpeg Kbipack Lapack[petsc] LinuxJoystick MathEx[contrib] Med Mesh Metis[contrib] Mmg Mpeg Netgen Nii2mesh ONELAB ONELABMetamodel OpenCASCADE OpenCASCADE-CAF OpenGL OpenMP OptHom PETSc Parser Plugins Png Post QuadMeshingTools QuadTri Solver TetGen/BR TinyXML2[contrib] Untangle Voro++[contrib] WinslowUntangler Zlib\n",
      "FLTK version  : 1.4.0\n",
      "PETSc version : 3.14.4 (real arithmtic)\n",
      "OCC version   : 7.7.2\n",
      "MED version   : 4.1.0\n",
      "Packaged by   : geuzaine\n",
      "Web site      : https://gmsh.info\n",
      "Issue tracker : https://gitlab.onelab.info/gmsh/gmsh/issues\n",
      "-------------------------------------------------------\n"
     ]
    }
   ],
   "source": [
    "gmsh_domain.write('with_ir.msh')\n",
    "gmsh.open('with_ir.msh')\n",
    "gmsh.fltk.initialize()\n",
    "gmsh.fltk.run()"
   ]
  },
  {
   "cell_type": "code",
   "execution_count": 160,
   "id": "80a73064",
   "metadata": {},
   "outputs": [
    {
     "name": "stderr",
     "output_type": "stream",
     "text": [
      "Warning : Gmsh has aleady been initialized\n"
     ]
    },
    {
     "name": "stdout",
     "output_type": "stream",
     "text": [
      "Info    : Reading 'with_ir.msh'...\n",
      "Info    : 33 entities\n",
      "Info    : 205776 nodes\n",
      "Info    : 410885 elements                                                                                     \n",
      "Info    : Done reading 'with_ir.msh'                                                                             \n"
     ]
    }
   ],
   "source": [
    "dolfinx_domain = Mesh.msh_to_dolfinx('with_ir.msh')"
   ]
  },
  {
   "cell_type": "code",
   "execution_count": 161,
   "id": "edc68f11",
   "metadata": {},
   "outputs": [],
   "source": [
    "# define spaces, interpolate materials\n",
    "\n",
    "spaces = Space(dolfinx_domain, V_family='Lagrange', V_degree = 1, Q_family='DG', Q_degree = 0)\n",
    "rho_cv_fxn = spaces.assign_material_property(materials, 'rho_cv')\n",
    "k_fxn = spaces.assign_material_property(materials, 'k')"
   ]
  },
  {
   "cell_type": "code",
   "execution_count": 162,
   "id": "6c9c5391",
   "metadata": {},
   "outputs": [],
   "source": [
    "# define initial conditions\n",
    "\n",
    "ic_fxn = spaces.initial_condition(ic_temp)\n",
    "u_n = fem.Function(spaces.V)\n",
    "u_n.x.array[:] = ic_fxn.x.array\n",
    "u_n.x.scatter_forward()"
   ]
  },
  {
   "cell_type": "code",
   "execution_count": 163,
   "id": "4c69450b",
   "metadata": {},
   "outputs": [
    {
     "data": {
      "image/png": "[encoded data removed]",
      "text/plain": [
       "<Figure size 640x480 with 1 Axes>"
      ]
     },
     "metadata": {},
     "output_type": "display_data"
    }
   ],
   "source": [
    "# define boundary conditions\n",
    "\n",
    "# interpolate bc spline\n",
    "from scipy.interpolate import make_interp_spline\n",
    "pside_heating_spline_interp = make_interp_spline(df_pside['time'], df_pside['temperature'], k=3)\n",
    "\n",
    "offset = df_pside['temperature'].iloc[0] - 300\n",
    "def heating_offset(t):\n",
    "    return float(pside_heating_spline_interp(t)) - offset\n",
    "\n",
    "\n",
    "# check that spline is reasonable\n",
    "import matplotlib.pyplot as plt\n",
    "fig, ax = plt.subplots()\n",
    "\n",
    "ax.scatter(df_pside['time'], df_pside['temperature']-offset, color = 'black', zorder = 1)\n",
    "\n",
    "synthetic_x = np.linspace(min(df_pside['time']), max(df_pside['time']), 200)\n",
    "ax.plot(synthetic_x, [heating_offset(x) for x in synthetic_x], zorder = 2)\n",
    "plt.show()"
   ]
  },
  {
   "cell_type": "code",
   "execution_count": null,
   "id": "b3c9d702",
   "metadata": {},
   "outputs": [],
   "source": [
    "# define boundary conditions\n",
    "\n",
    "bcs=[]\n",
    "\n",
    "left_bc = RowDirichletBC(spaces.V, 'left', value=ic_temp)\n",
    "right_bc = RowDirichletBC(spaces.V, 'right', value=ic_temp)\n",
    "bottom_bc = RowDirichletBC(spaces.V, 'bottom', value=ic_temp)\n",
    "# leave top bc undefined to have it be adiabatic\n",
    "\n",
    "# inner spatially and time variable BC\n",
    "\n",
    "# gaussian width coeff\n",
    "coeff = -4.0 * np.log(2.0) / heating_FWHM**2\n",
    "\n",
    "# Center of your heating patch along the y‐axis (adjust if needed)\n",
    "y_center = 0.0  \n",
    "\n",
    "def gaussian(x, y, t):\n",
    "    \"\"\"\n",
    "    Gaussian in y (peaks at y_center, width heating_FWHM),\n",
    "    amplitude given by pside_heating_spline_interp(t).\n",
    "    \"\"\"\n",
    "    amp = heating_offset(t)\n",
    "    return (amp - ic_temp) * np.exp(coeff * (y - y_center)**2) + ic_temp\n",
    "    \n",
    "inner_bc = RowDirichletBC(\n",
    "    spaces.V,\n",
    "    'x',\n",
    "    coord=BX_ir_pside,\n",
    "    length=heating_FWHM*2,\n",
    "    center=0.0,\n",
    "    value=gaussian\n",
    ")\n",
    "\n",
    "obj_bcs = [left_bc, right_bc, bottom_bc, inner_bc]\n",
    "bcs = [left_bc.bc, right_bc.bc, bottom_bc.bc, inner_bc.bc]\n"
   ]
  },
  {
   "cell_type": "code",
   "execution_count": 165,
   "id": "217fb982",
   "metadata": {},
   "outputs": [
    {
     "name": "stdout",
     "output_type": "stream",
     "text": [
      "Row BC #0: x in [-5.732e-06, -5.732e-06]  y in [-2.000e-05, 1.583e-24]  (n = 201 DOFs)\n",
      "Row BC #1: x in [5.732e-06, 5.732e-06]  y in [-2.000e-05, -9.525e-24]  (n = 201 DOFs)\n",
      "Row BC #2: x in [-5.732e-06, 5.732e-06]  y in [-2.000e-05, -2.000e-05]  (n = 135 DOFs)\n",
      "Row BC #3: x in [-2.470e-06, -2.470e-06]  y in [-1.320e-05, 2.853e-25]  (n = 661 DOFs)\n"
     ]
    }
   ],
   "source": [
    "RowDirichletBC.describe_row_bcs(obj_bcs)"
   ]
  },
  {
   "cell_type": "code",
   "execution_count": 166,
   "id": "0a62e8c8",
   "metadata": {},
   "outputs": [],
   "source": [
    "from dolfinx.fem.petsc import assemble_matrix\n",
    "\n",
    "# timestepping loop\n",
    "\n",
    "time_stop = 7.0e-6\n",
    "num_steps = 200\n",
    "dt = time_stop/num_steps\n",
    "\n",
    "# init forms\n",
    "\n",
    "a_form, L_form = spaces.build_variational_forms(rho_cv_fxn, k_fxn, u_n, dt)\n",
    "\n",
    "# init system matrix\n",
    "A = assemble_matrix(spaces.a_form, bcs=bcs)\n",
    "A.assemble()\n",
    "\n",
    "# init RHS vector\n",
    "b = fem.petsc.create_vector(L_form)\n",
    "\n",
    "# init solver\n",
    "\n",
    "# Create a KSP (Krylov Subspace) solver on the same MPI communicator as A\n",
    "solver = PETSc.KSP().create(A.getComm())\n",
    "# Set the operator (matrix) for the solver\n",
    "solver.setOperators(A)\n",
    "# Use the PREONLY solver type (no Krylov iterations, direct solve)\n",
    "pc = solver.getPC()\n",
    "pc.setType('hypre')"
   ]
  },
  {
   "cell_type": "code",
   "execution_count": 167,
   "id": "f7095eb8",
   "metadata": {},
   "outputs": [],
   "source": [
    "# define outputs folder\n",
    "\n",
    "import os\n",
    "outputs_folder = os.path.join(os.getcwd(), 'sim_outputs')\n",
    "\n",
    "# init io\n",
    "from io_utilities.xdmf_utils import *\n",
    "\n",
    "save_folder = os.path.join(outputs_folder, 'with_ir')\n",
    "os.makedirs(save_folder, exist_ok=True)\n",
    "\n",
    "xdmf = init_xdmf(spaces.mesh, save_folder, 'solution')\n",
    "uh = fem.Function(spaces.V)\n",
    "uh.name = 'Temperature (K)'\n",
    "uh.interpolate(ic_fxn)\n",
    "xdmf.write_function(uh, 0.0)"
   ]
  },
  {
   "cell_type": "code",
   "execution_count": 168,
   "id": "c6e85ed0",
   "metadata": {},
   "outputs": [
    {
     "name": "stdout",
     "output_type": "stream",
     "text": [
      "Simulation progress: 10% (step 20/200)\n",
      "Simulation progress: 20% (step 40/200)\n",
      "Simulation progress: 30% (step 60/200)\n",
      "Simulation progress: 40% (step 80/200)\n",
      "Simulation progress: 50% (step 100/200)\n",
      "Simulation progress: 60% (step 120/200)\n",
      "Simulation progress: 70% (step 140/200)\n",
      "Simulation progress: 80% (step 160/200)\n",
      "Simulation progress: 90% (step 180/200)\n",
      "Simulation progress: 100% (step 200/200)\n"
     ]
    }
   ],
   "source": [
    "\n",
    "# update the bcs to ic state\n",
    "for x in obj_bcs:\n",
    "    x.update(0.0)\n",
    "\n",
    "progress_interval = max(1, num_steps // 10)\n",
    "for step in range(num_steps):\n",
    "    t = (step+1)*dt\n",
    "    inner_bc.update(t)\n",
    "\n",
    "    # reset and assemble rhs vector\n",
    "    with b.localForm() as local_b:\n",
    "        local_b.set(0)\n",
    "    fem.petsc.assemble_vector(b, L_form)\n",
    "\n",
    "    # Apply lifting and BCs to RHS\n",
    "    fem.petsc.apply_lifting(b, [a_form], [bcs])\n",
    "    b.ghostUpdate(addv=PETSc.InsertMode.ADD_VALUES, mode=PETSc.ScatterMode.REVERSE)\n",
    "    fem.petsc.set_bc(b, bcs)\n",
    "\n",
    "    # Solve linear system\n",
    "    solver.solve(b, uh.x.petsc_vec)\n",
    "    uh.x.scatter_forward()\n",
    "\n",
    "    # Update previous solution\n",
    "    u_n.x.array[:] = uh.x.array\n",
    "\n",
    "    # Write solution at current time\n",
    "    xdmf.write_function(uh, t)\n",
    "\n",
    "    # Print progress every 10%\n",
    "    if (step + 1) % progress_interval == 0 or (step + 1) == num_steps:\n",
    "        percent = int((step + 1) / num_steps * 100)\n",
    "        print(f\"Simulation progress: {percent}% (step {step + 1}/{num_steps})\")\n",
    "\n",
    "xdmf.close()"
   ]
  },
  {
   "cell_type": "code",
   "execution_count": 169,
   "id": "4ff19dfe",
   "metadata": {},
   "outputs": [],
   "source": [
    "from io_utilities.xdmf_extract import *\n",
    "\n",
    "time, data = extract_point_timeseries_xdmf(os.path.join(save_folder, 'solution.xdmf'), function_name='Temperature (K)', query_points=[(bx_sample, 0), (BX_sample, 0)])\n",
    "sim_df = pd.DataFrame({'time': time,\n",
    "                       'pside': data[0],\n",
    "                       'oside': data[1]})\n",
    "\n",
    "sim_df['normed pside'] = (sim_df['pside'] - sim_df['pside'].iloc[0]) / (max(sim_df['pside']) - min(sim_df['pside']))\n",
    "sim_df['normed oside'] = (sim_df['oside'] - sim_df['oside'].iloc[0]) / (max(sim_df['pside']) - min(sim_df['pside']))"
   ]
  },
  {
   "cell_type": "code",
   "execution_count": 170,
   "id": "c7df30ac",
   "metadata": {},
   "outputs": [
    {
     "data": {
      "text/plain": [
       "<matplotlib.legend.Legend at 0x78f897172c90>"
      ]
     },
     "execution_count": 170,
     "metadata": {},
     "output_type": "execute_result"
    },
    {
     "data": {
      "image/png": "[encoded data removed]",
      "text/plain": [
       "<Figure size 640x480 with 1 Axes>"
      ]
     },
     "metadata": {},
     "output_type": "display_data"
    }
   ],
   "source": [
    "# absolute temp\n",
    "\n",
    "fig, ax = plt.subplots()\n",
    "\n",
    "ax.set_title('Normed Temperatures')\n",
    "ax.plot(df_pside['time'], df_pside['normed temperature'], label = 'Geballe pside')\n",
    "ax.plot(df_oside['time'], df_oside['normed temperature'], label = 'Geballe oside')\n",
    "\n",
    "ax.plot(sim_df['time'], sim_df['normed pside'], label = 'sim pside')\n",
    "ax.plot(sim_df['time'], sim_df['normed oside'], label = 'sim oside')\n",
    "\n",
    "ax.legend()"
   ]
  },
  {
   "cell_type": "code",
   "execution_count": 171,
   "id": "256dbc04",
   "metadata": {},
   "outputs": [
    {
     "data": {
      "text/plain": [
       "0.04604131151346294"
      ]
     },
     "execution_count": 171,
     "metadata": {},
     "output_type": "execute_result"
    }
   ],
   "source": [
    "max(sim_df['normed oside']) - max(df_oside['normed temperature'])"
   ]
  },
  {
   "cell_type": "code",
   "execution_count": 172,
   "id": "7dce9a04",
   "metadata": {},
   "outputs": [],
   "source": [
    "query_points = []\n",
    "xmin = bx_ir_pside - 2e-6\n",
    "xmax = BX_ir_oside + 2e-6\n",
    "samples = 200\n",
    "\n",
    "for x in np.linspace(xmin, xmax, samples):\n",
    "    query_points.append((x, 0.0))\n",
    "\n",
    "time, data = extract_point_timeseries_xdmf(os.path.join(save_folder, 'solution.xdmf'), function_name='Temperature (K)', query_points=query_points)\n",
    "locations = np.arange(data.shape[0])"
   ]
  },
  {
   "cell_type": "code",
   "execution_count": 174,
   "id": "e37ec44a",
   "metadata": {},
   "outputs": [
    {
     "data": {
      "image/png": "[encoded data removed]",
      "text/plain": [
       "<Figure size 640x480 with 1 Axes>"
      ]
     },
     "metadata": {},
     "output_type": "display_data"
    }
   ],
   "source": [
    "sim_df = pd.DataFrame(data, index=locations.astype(int), columns=time)\n",
    "\n",
    "fig, ax = plt.subplots()\n",
    "\n",
    "t0 = 100\n",
    "location_series = (locations/samples) * (xmax - xmin) + xmin\n",
    "ymin = 300\n",
    "ymax = 800\n",
    "\n",
    "ax.plot(location_series, sim_df.iloc[:, t0], zorder = 3, color = 'black')\n",
    "ax.vlines([BX_sample, bx_sample, bx_ir_pside, BX_ir_oside], ymin=ymin, ymax=ymax, ls = '--', label = 'Ir Boundaries', color = 'indianred', zorder = 2, lw=0.9)\n",
    "\n",
    "ax.set_xlim(xmin, xmax)\n",
    "ax.set_ylim(ymin, ymax)\n",
    "\n",
    "ax.set_xlabel('Position')\n",
    "ax.set_ylabel('Temperature')\n",
    "ax.set_title(f'Position vs time along the y=0 line at t={t0*dt*10**6:.2f}us')\n",
    "ax.legend()\n",
    "\n",
    "plt.show()"
   ]
  },
  {
   "cell_type": "code",
   "execution_count": null,
   "id": "24c571f3",
   "metadata": {},
   "outputs": [],
   "source": []
  }
 ],
 "metadata": {
  "kernelspec": {
   "display_name": "fenicsx-env",
   "language": "python",
   "name": "python3"
  },
  "language_info": {
   "codemirror_mode": {
    "name": "ipython",
    "version": 3
   },
   "file_extension": ".py",
   "mimetype": "text/x-python",
   "name": "python",
   "nbconvert_exporter": "python",
   "pygments_lexer": "ipython3",
   "version": "3.11.12"
  }
 },
 "nbformat": 4,
 "nbformat_minor": 5
}
